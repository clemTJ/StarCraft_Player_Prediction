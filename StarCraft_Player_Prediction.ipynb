{
  "nbformat": 4,
  "nbformat_minor": 0,
  "metadata": {
    "colab": {
      "name": "StarCraft_Player_Prediction.ipynb",
      "provenance": [],
      "collapsed_sections": []
    },
    "kernelspec": {
      "name": "python3",
      "display_name": "Python 3"
    }
  },
  "cells": [
    {
      "cell_type": "markdown",
      "metadata": {
        "id": "mzvZjXTWTq8t"
      },
      "source": [
        "### DATASETS"
      ]
    },
    {
      "cell_type": "code",
      "metadata": {
        "id": "8ZzENhGRTMNI",
        "outputId": "5820abda-216b-4406-b271-e3b16866556c",
        "colab": {
          "resources": {
            "http://localhost:8080/nbextensions/google.colab/files.js": {
              "data": "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",
              "ok": true,
              "headers": [
                [
                  "content-type",
                  "application/javascript"
                ]
              ],
              "status": 200,
              "status_text": ""
            }
          },
          "base_uri": "https://localhost:8080/",
          "height": 89
        }
      },
      "source": [
        "from google.colab import files\n",
        "files.upload()"
      ],
      "execution_count": 2,
      "outputs": [
        {
          "output_type": "display_data",
          "data": {
            "text/html": [
              "\n",
              "     <input type=\"file\" id=\"files-048abb31-d40d-4e65-90fa-7b9e63789786\" name=\"files[]\" multiple disabled\n",
              "        style=\"border:none\" />\n",
              "     <output id=\"result-048abb31-d40d-4e65-90fa-7b9e63789786\">\n",
              "      Upload widget is only available when the cell has been executed in the\n",
              "      current browser session. Please rerun this cell to enable.\n",
              "      </output>\n",
              "      <script src=\"/nbextensions/google.colab/files.js\"></script> "
            ],
            "text/plain": [
              "<IPython.core.display.HTML object>"
            ]
          },
          "metadata": {
            "tags": []
          }
        },
        {
          "output_type": "stream",
          "text": [
            "Saving kaggle.json to kaggle.json\n"
          ],
          "name": "stdout"
        },
        {
          "output_type": "execute_result",
          "data": {
            "text/plain": [
              "{'kaggle.json': b'{\"username\":\"clmenttr\",\"key\":\"726509b304570c31915da43fb218c143\"}'}"
            ]
          },
          "metadata": {
            "tags": []
          },
          "execution_count": 2
        }
      ]
    },
    {
      "cell_type": "code",
      "metadata": {
        "id": "ZcN65P3aTADW",
        "outputId": "bd3482e6-4e8c-4f05-f6fc-186e34dadecf",
        "colab": {
          "base_uri": "https://localhost:8080/",
          "height": 649
        }
      },
      "source": [
        "!pip install kaggle\n",
        "! mkdir ~/.kaggle\n",
        "! cp kaggle.json ~/.kaggle/\n",
        "! chmod 600 ~/.kaggle/kaggle.json\n",
        "! kaggle datasets list"
      ],
      "execution_count": 3,
      "outputs": [
        {
          "output_type": "stream",
          "text": [
            "Requirement already satisfied: kaggle in /usr/local/lib/python3.6/dist-packages (1.5.8)\n",
            "Requirement already satisfied: tqdm in /usr/local/lib/python3.6/dist-packages (from kaggle) (4.41.1)\n",
            "Requirement already satisfied: urllib3<1.25,>=1.21.1 in /usr/local/lib/python3.6/dist-packages (from kaggle) (1.24.3)\n",
            "Requirement already satisfied: slugify in /usr/local/lib/python3.6/dist-packages (from kaggle) (0.0.1)\n",
            "Requirement already satisfied: six>=1.10 in /usr/local/lib/python3.6/dist-packages (from kaggle) (1.15.0)\n",
            "Requirement already satisfied: certifi in /usr/local/lib/python3.6/dist-packages (from kaggle) (2020.6.20)\n",
            "Requirement already satisfied: python-dateutil in /usr/local/lib/python3.6/dist-packages (from kaggle) (2.8.1)\n",
            "Requirement already satisfied: python-slugify in /usr/local/lib/python3.6/dist-packages (from kaggle) (4.0.1)\n",
            "Requirement already satisfied: requests in /usr/local/lib/python3.6/dist-packages (from kaggle) (2.23.0)\n",
            "Requirement already satisfied: text-unidecode>=1.3 in /usr/local/lib/python3.6/dist-packages (from python-slugify->kaggle) (1.3)\n",
            "Requirement already satisfied: chardet<4,>=3.0.2 in /usr/local/lib/python3.6/dist-packages (from requests->kaggle) (3.0.4)\n",
            "Requirement already satisfied: idna<3,>=2.5 in /usr/local/lib/python3.6/dist-packages (from requests->kaggle) (2.10)\n",
            "mkdir: cannot create directory ‘/root/.kaggle’: File exists\n",
            "Warning: Looks like you're using an outdated API Version, please consider updating (server 1.5.6 / client 1.5.4)\n",
            "ref                                                               title                                                 size  lastUpdated          downloadCount  \n",
            "----------------------------------------------------------------  --------------------------------------------------  ------  -------------------  -------------  \n",
            "christianlillelund/donald-trumps-rallies                          Donald Trump's Rallies                               720KB  2020-09-26 10:25:08            474  \n",
            "heeraldedhia/groceries-dataset                                    Groceries dataset                                    257KB  2020-09-17 04:36:08           2660  \n",
            "andrewmvd/trip-advisor-hotel-reviews                              Trip Advisor Hotel Reviews                             5MB  2020-09-30 08:31:20           1554  \n",
            "balraj98/stanford-background-dataset                              Stanford Background Dataset                           17MB  2020-09-26 12:57:59            165  \n",
            "nehaprabhavalkar/indian-food-101                                  Indian Food 101                                        7KB  2020-09-30 06:23:43           2224  \n",
            "jilkothari/finance-accounting-courses-udemy-13k-course            Finance & Accounting Courses - Udemy (13K+ course)  1000KB  2020-09-17 12:46:12            740  \n",
            "balraj98/massachusetts-roads-dataset                              Massachusetts Roads Dataset                            6GB  2020-09-26 03:57:49            138  \n",
            "arslanali4343/top-personality-dataset                             Top Personality Dataset                                9MB  2020-09-27 21:25:45            793  \n",
            "oldaandozerskaya/fiction-corpus-for-agebased-text-classification  RusAge: Corpus for Age-Based Text Classification     509MB  2020-09-28 09:30:12             44  \n",
            "gpreda/chinese-mnist                                              Chinese MNIST                                         10MB  2020-08-05 12:36:00            277  \n",
            "gpreda/local-elections-romania-2020                               Local Elections Romania 2020                          28MB  2020-09-27 20:46:11            146  \n",
            "anth7310/mental-health-in-the-tech-industry                       Mental Health in the Tech Industry                     2MB  2020-09-27 11:17:23           1190  \n",
            "roshansharma/sanfranciso-crime-dataset                            Sanfranciso Crime Dataset                              6MB  2019-05-29 12:45:44           3907  \n",
            "bppuneethpai/tldr-summary-for-man-pages                           TLDR summary for man pages                             8MB  2020-09-25 09:50:10             25  \n",
            "sterby/german-recipes-dataset                                     German Recipes Dataset                                 5MB  2019-03-06 16:25:22            850  \n",
            "arslanali4343/real-estate-dataset                                 Real Estate DataSet                                   12KB  2020-09-28 21:25:33            950  \n",
            "thomaskonstantin/top-270-rated-computer-science-programing-books  Top 270 Computer Science / Programing Books           45KB  2020-09-28 16:47:12            450  \n",
            "leangab/poe-short-stories-corpuscsv                               E.A. Poe's corpus of short stories                   725KB  2020-09-28 11:43:08            104  \n",
            "anmolkumar/health-insurance-cross-sell-prediction                 Health Insurance Cross Sell Prediction 🏠 🏥             6MB  2020-09-11 18:39:31           4249  \n",
            "ramjidoolla/ipl-data-set                                          IPL _Data_Set                                          1MB  2020-09-14 10:57:42           4079  \n"
          ],
          "name": "stdout"
        }
      ]
    },
    {
      "cell_type": "code",
      "metadata": {
        "id": "KFlvxzRfTId_",
        "outputId": "6799a2d4-099e-4c8f-d240-9150718a75a6",
        "colab": {
          "base_uri": "https://localhost:8080/",
          "height": 289
        }
      },
      "source": [
        "!kaggle competitions download -c 'starcraft-2-player-prediction-challenge-2020'"
      ],
      "execution_count": 4,
      "outputs": [
        {
          "output_type": "stream",
          "text": [
            "Warning: Looks like you're using an outdated API Version, please consider updating (server 1.5.6 / client 1.5.4)\n",
            "Downloading TEST_LONG.CSV.zip to /content\n",
            " 66% 9.00M/13.5M [00:00<00:00, 26.0MB/s]\n",
            "100% 13.5M/13.5M [00:00<00:00, 34.2MB/s]\n",
            "Downloading TRAIN_LONG.CSV.zip to /content\n",
            " 93% 115M/124M [00:01<00:00, 70.2MB/s]\n",
            "100% 124M/124M [00:01<00:00, 75.7MB/s]\n",
            "Downloading TEST.CSV.zip to /content\n",
            "  0% 0.00/625k [00:00<?, ?B/s]\n",
            "100% 625k/625k [00:00<00:00, 88.0MB/s]\n",
            "Downloading TRAIN.CSV.zip to /content\n",
            " 90% 5.00M/5.57M [00:00<00:00, 38.9MB/s]\n",
            "100% 5.57M/5.57M [00:00<00:00, 35.3MB/s]\n",
            "Downloading SAMPLE_SUBMISSION.CSV to /content\n",
            "  0% 0.00/20.8k [00:00<?, ?B/s]\n",
            "100% 20.8k/20.8k [00:00<00:00, 21.9MB/s]\n"
          ],
          "name": "stdout"
        }
      ]
    },
    {
      "cell_type": "code",
      "metadata": {
        "id": "zXYgxf1bTlIN",
        "outputId": "393d2b95-95aa-4351-817b-8a433f75540e",
        "colab": {
          "base_uri": "https://localhost:8080/",
          "height": 153
        }
      },
      "source": [
        "#Unzip data\n",
        "! unzip TRAIN.CSV.zip \n",
        "! unzip TEST.CSV.zip \n",
        "! unzip TEST_LONG.CSV.zip \n",
        "! unzip TRAIN_LONG.CSV.zip "
      ],
      "execution_count": 5,
      "outputs": [
        {
          "output_type": "stream",
          "text": [
            "Archive:  TRAIN.CSV.zip\n",
            "  inflating: TRAIN.CSV               \n",
            "Archive:  TEST.CSV.zip\n",
            "  inflating: TEST.CSV                \n",
            "Archive:  TEST_LONG.CSV.zip\n",
            "  inflating: TEST_LONG.CSV           \n",
            "Archive:  TRAIN_LONG.CSV.zip\n",
            "  inflating: TRAIN_LONG.CSV          \n"
          ],
          "name": "stdout"
        }
      ]
    },
    {
      "cell_type": "markdown",
      "metadata": {
        "id": "UXyD8FhAmQur"
      },
      "source": [
        "##IMPORTS"
      ]
    },
    {
      "cell_type": "code",
      "metadata": {
        "id": "21_EKKwCmS-u"
      },
      "source": [
        "import numpy as np\n",
        "import pandas as pd\n",
        "from scipy.stats import randint\n",
        "from sklearn.model_selection import train_test_split, RandomizedSearchCV\n",
        "from sklearn.preprocessing import OneHotEncoder, LabelEncoder\n",
        "from sklearn.tree import DecisionTreeClassifier\n",
        "from sklearn.metrics import accuracy_score, f1_score\n",
        "from xgboost import XGBClassifier"
      ],
      "execution_count": 7,
      "outputs": []
    },
    {
      "cell_type": "markdown",
      "metadata": {
        "id": "UFw_oBdpTxsK"
      },
      "source": [
        "### Loading the data"
      ]
    },
    {
      "cell_type": "code",
      "metadata": {
        "id": "eXUthfD0Va-j"
      },
      "source": [
        "columns_names = ['battleneturl', 'played_race']\n",
        "for i in range(2563):\n",
        "  columns_names.append('s'+ str(i))"
      ],
      "execution_count": 8,
      "outputs": []
    },
    {
      "cell_type": "code",
      "metadata": {
        "id": "7ip0Ij7oUENS"
      },
      "source": [
        "def read_train(filename):\n",
        "  players = []\n",
        "  data = []\n",
        "  with open(filename, 'r') as f:\n",
        "    for line in f:\n",
        "      elements = line.rstrip(\"\\n\").split(\",\")\n",
        "      id = elements[0]\n",
        "      race = elements[1]\n",
        "      accion = elements[2:]\n",
        "      players.append(id)\n",
        "      data.append([race, \", \".join([a.rstrip() for a in accion])])\n",
        "  df = pd.DataFrame(data, columns=['race', 'actions'])\n",
        "  players = pd.Series(players)\n",
        "  return players, df\n",
        "\n",
        "def read_test(filename):\n",
        "  data = []\n",
        "  with open(filename, 'r') as f:\n",
        "    for line in f:\n",
        "      elements = line.rstrip(\"\\n\").split(\",\")\n",
        "      race = elements[0]\n",
        "      accion = elements[1:]\n",
        "      data.append([race, \", \".join([a.rstrip() for a in accion])])\n",
        "  df = pd.DataFrame(data, columns=['race', 'actions'])\n",
        "  return df"
      ],
      "execution_count": 9,
      "outputs": []
    },
    {
      "cell_type": "code",
      "metadata": {
        "id": "wgs8FYMahg7u"
      },
      "source": [
        "players, train_data = read_train('TRAIN.CSV')\n",
        "test_data = read_test('TEST.CSV')"
      ],
      "execution_count": 10,
      "outputs": []
    },
    {
      "cell_type": "code",
      "metadata": {
        "id": "ice7WpaYlNKs",
        "outputId": "506a6afc-82eb-43eb-883f-66c50fb6667d",
        "colab": {
          "base_uri": "https://localhost:8080/",
          "height": 119
        }
      },
      "source": [
        "players.head()"
      ],
      "execution_count": 11,
      "outputs": [
        {
          "output_type": "execute_result",
          "data": {
            "text/plain": [
              "0    http://eu.battle.net/sc2/en/profile/4234852/1/...\n",
              "1    http://eu.battle.net/sc2/en/profile/3074362/1/...\n",
              "2    http://eu.battle.net/sc2/en/profile/4234852/1/...\n",
              "3    http://eu.battle.net/sc2/en/profile/3074362/1/...\n",
              "4    http://eu.battle.net/sc2/en/profile/4234852/1/...\n",
              "dtype: object"
            ]
          },
          "metadata": {
            "tags": []
          },
          "execution_count": 11
        }
      ]
    },
    {
      "cell_type": "code",
      "metadata": {
        "id": "UruvCFyujtRn",
        "outputId": "85790b3a-a3ce-4497-bc5f-6e6ed2928b41",
        "colab": {
          "base_uri": "https://localhost:8080/",
          "height": 204
        }
      },
      "source": [
        "train_data.head()"
      ],
      "execution_count": 12,
      "outputs": [
        {
          "output_type": "execute_result",
          "data": {
            "text/html": [
              "<div>\n",
              "<style scoped>\n",
              "    .dataframe tbody tr th:only-of-type {\n",
              "        vertical-align: middle;\n",
              "    }\n",
              "\n",
              "    .dataframe tbody tr th {\n",
              "        vertical-align: top;\n",
              "    }\n",
              "\n",
              "    .dataframe thead th {\n",
              "        text-align: right;\n",
              "    }\n",
              "</style>\n",
              "<table border=\"1\" class=\"dataframe\">\n",
              "  <thead>\n",
              "    <tr style=\"text-align: right;\">\n",
              "      <th></th>\n",
              "      <th>race</th>\n",
              "      <th>actions</th>\n",
              "    </tr>\n",
              "  </thead>\n",
              "  <tbody>\n",
              "    <tr>\n",
              "      <th>0</th>\n",
              "      <td>Protoss</td>\n",
              "      <td>Base, s, s, s, s, s, t5, Base, s, hotkey30, ho...</td>\n",
              "    </tr>\n",
              "    <tr>\n",
              "      <th>1</th>\n",
              "      <td>Protoss</td>\n",
              "      <td>s, Base, s, s, Base, s, s, Base, s, t5, hotkey...</td>\n",
              "    </tr>\n",
              "    <tr>\n",
              "      <th>2</th>\n",
              "      <td>Protoss</td>\n",
              "      <td>Base, s, s, s, Base, s, hotkey30, hotkey00, t5...</td>\n",
              "    </tr>\n",
              "    <tr>\n",
              "      <th>3</th>\n",
              "      <td>Protoss</td>\n",
              "      <td>Base, s, s, Base, s, s, s, t5, Base, s, hotkey...</td>\n",
              "    </tr>\n",
              "    <tr>\n",
              "      <th>4</th>\n",
              "      <td>Protoss</td>\n",
              "      <td>Base, s, s, s, Base, s, hotkey30, hotkey00, t5...</td>\n",
              "    </tr>\n",
              "  </tbody>\n",
              "</table>\n",
              "</div>"
            ],
            "text/plain": [
              "      race                                            actions\n",
              "0  Protoss  Base, s, s, s, s, s, t5, Base, s, hotkey30, ho...\n",
              "1  Protoss  s, Base, s, s, Base, s, s, Base, s, t5, hotkey...\n",
              "2  Protoss  Base, s, s, s, Base, s, hotkey30, hotkey00, t5...\n",
              "3  Protoss  Base, s, s, Base, s, s, s, t5, Base, s, hotkey...\n",
              "4  Protoss  Base, s, s, s, Base, s, hotkey30, hotkey00, t5..."
            ]
          },
          "metadata": {
            "tags": []
          },
          "execution_count": 12
        }
      ]
    },
    {
      "cell_type": "code",
      "metadata": {
        "id": "W9fS7AhUlDzY",
        "outputId": "ce570d66-27fd-43f0-96ad-a063964d5831",
        "colab": {
          "base_uri": "https://localhost:8080/",
          "height": 204
        }
      },
      "source": [
        "test_data.head()"
      ],
      "execution_count": 13,
      "outputs": [
        {
          "output_type": "execute_result",
          "data": {
            "text/html": [
              "<div>\n",
              "<style scoped>\n",
              "    .dataframe tbody tr th:only-of-type {\n",
              "        vertical-align: middle;\n",
              "    }\n",
              "\n",
              "    .dataframe tbody tr th {\n",
              "        vertical-align: top;\n",
              "    }\n",
              "\n",
              "    .dataframe thead th {\n",
              "        text-align: right;\n",
              "    }\n",
              "</style>\n",
              "<table border=\"1\" class=\"dataframe\">\n",
              "  <thead>\n",
              "    <tr style=\"text-align: right;\">\n",
              "      <th></th>\n",
              "      <th>race</th>\n",
              "      <th>actions</th>\n",
              "    </tr>\n",
              "  </thead>\n",
              "  <tbody>\n",
              "    <tr>\n",
              "      <th>0</th>\n",
              "      <td>Zerg</td>\n",
              "      <td>s, s, s, hotkey10, s, hotkey60, s, hotkey00, s...</td>\n",
              "    </tr>\n",
              "    <tr>\n",
              "      <th>1</th>\n",
              "      <td>Terran</td>\n",
              "      <td>s, hotkey30, hotkey00, t5, s, hotkey32, s, hot...</td>\n",
              "    </tr>\n",
              "    <tr>\n",
              "      <th>2</th>\n",
              "      <td>Protoss</td>\n",
              "      <td>Base, s, s, Base, s, hotkey20, hotkey30, hotke...</td>\n",
              "    </tr>\n",
              "    <tr>\n",
              "      <th>3</th>\n",
              "      <td>Zerg</td>\n",
              "      <td>s, s, s, s, hotkey20, s, hotkey40, t5, t10, ho...</td>\n",
              "    </tr>\n",
              "    <tr>\n",
              "      <th>4</th>\n",
              "      <td>Protoss</td>\n",
              "      <td>Base, s, s, Base, s, hotkey50, hotkey30, t5, h...</td>\n",
              "    </tr>\n",
              "  </tbody>\n",
              "</table>\n",
              "</div>"
            ],
            "text/plain": [
              "      race                                            actions\n",
              "0     Zerg  s, s, s, hotkey10, s, hotkey60, s, hotkey00, s...\n",
              "1   Terran  s, hotkey30, hotkey00, t5, s, hotkey32, s, hot...\n",
              "2  Protoss  Base, s, s, Base, s, hotkey20, hotkey30, hotke...\n",
              "3     Zerg  s, s, s, s, hotkey20, s, hotkey40, t5, t10, ho...\n",
              "4  Protoss  Base, s, s, Base, s, hotkey50, hotkey30, t5, h..."
            ]
          },
          "metadata": {
            "tags": []
          },
          "execution_count": 13
        }
      ]
    },
    {
      "cell_type": "code",
      "metadata": {
        "id": "BfTaYb5fHqjE",
        "outputId": "5097cf0f-0f55-41bf-bcb0-c0429df67823",
        "colab": {
          "base_uri": "https://localhost:8080/",
          "height": 137
        }
      },
      "source": [
        "train_data.actions[0]"
      ],
      "execution_count": 14,
      "outputs": [
        {
          "output_type": "execute_result",
          "data": {
            "application/vnd.google.colaboratory.intrinsic+json": {
              "type": "string"
            },
            "text/plain": [
              "'Base, s, s, s, s, s, t5, Base, s, hotkey30, hotkey00, t10, t15, t20, t25, t30, t35, s, hotkey32, s, hotkey32, s, hotkey32, s, t40, hotkey32, s, hotkey32, s, hotkey32, s, hotkey32, s, t45, hotkey32, SingleMineral, s, t50, s, hotkey32, s, hotkey32, t55, s, hotkey32, s, t60, hotkey32, s, hotkey32, s, hotkey32, s, hotkey32, s, hotkey32, t65, s, hotkey32, s, hotkey32, s, hotkey32, s, hotkey32, s, hotkey32, s, hotkey32, s, hotkey32, t70, s, hotkey32, s, hotkey32, s, s, hotkey32, s, hotkey32, s, hotkey32, t75, s, hotkey32, s, hotkey32, s, hotkey32, s, hotkey32, t80, s, hotkey32, s, hotkey32, s, hotkey32, s, hotkey32, s, hotkey32, s, hotkey32, s, hotkey32, s, hotkey32, t85, s, hotkey32, s, hotkey32, s, hotkey32, s, hotkey32, t90, s, hotkey32, s, hotkey32, s, hotkey32, s, hotkey32, s, hotkey32, s, hotkey32, t95, s, hotkey10, hotkey32, s, hotkey10, t100, hotkey32, s, t105, hotkey32, t110, s, hotkey32, s, hotkey32, t115, s, hotkey32, s, hotkey32, s, hotkey32, s, hotkey32, s, hotkey32, s, hotkey40, t120, hotkey32, hotkey42, hotkey32, hotkey42, hotkey32, hotkey42, hotkey32, s, hotkey32, t125, s, hotkey32, s, hotkey32, hotkey42, hotkey32, hotkey42, hotkey32, hotkey42, s, t130, hotkey10, hotkey32, s, hotkey32, t135, s, hotkey32, s, hotkey32, s, hotkey32, t140, s, hotkey32, s, hotkey32, s, s, s, hotkey32, s, hotkey32, t145, s, s, hotkey32, s, hotkey20, t150, hotkey32, hotkey22, t155, hotkey32, s, s, hotkey32, t160, s, hotkey32, hotkey12, hotkey32, t165, s, hotkey32, s, s, hotkey32, t170, s, hotkey12, hotkey22, t175, hotkey12, hotkey42, s, hotkey50, hotkey12, t180, hotkey32, s, hotkey32, s, hotkey32, t185, s, hotkey32, s, hotkey32, hotkey42, s, hotkey32, t190, hotkey12, hotkey32, hotkey42, hotkey32, hotkey42, hotkey32, s, hotkey32, s, hotkey32, t195, s, hotkey32, s, hotkey32, s, hotkey32, s, hotkey32, s, hotkey32, s, hotkey32, s, hotkey32, SingleMineral, s, hotkey32, SingleMineral, s, hotkey32, t200, s, hotkey32, s, hotkey32, s, hotkey32, s, hotkey32, t205, hotkey12, hotkey32, s, hotkey32, hotkey12, hotkey32, hotkey42, hotkey32, t210, hotkey42, hotkey32, hotkey42, hotkey52, hotkey12, hotkey32, hotkey42, hotkey32, hotkey42, hotkey32, hotkey42, hotkey32, Base, s, hotkey12, t215, hotkey52, hotkey12, t220, hotkey32, hotkey12, hotkey42, hotkey32, hotkey12, t225, hotkey42, hotkey52, hotkey12, hotkey32, hotkey12, hotkey32, t230, hotkey12, hotkey32, hotkey42, hotkey32, hotkey42, s, hotkey20, hotkey12, t235, hotkey22, t240, hotkey32, hotkey12, hotkey32, hotkey12, hotkey32, t245, hotkey12, t250, hotkey32, hotkey42, t255, hotkey32, s, hotkey20, hotkey32, hotkey12, hotkey32, t260, hotkey42, s, hotkey22, t265, hotkey42, hotkey22, hotkey12, hotkey42, hotkey32, hotkey42, hotkey32, hotkey42, t270, s, hotkey10, hotkey42, s, hotkey42, t275, hotkey22, hotkey12, hotkey22, t280, hotkey32, hotkey12, t285, hotkey32, hotkey42, hotkey32, hotkey42, hotkey32, hotkey42, hotkey12, hotkey32, SingleMineral, s, hotkey32, s, hotkey32, t290, s, hotkey32, s, hotkey32, s, s, hotkey32, hotkey42, hotkey32, hotkey42, hotkey12, hotkey22, t295, hotkey12, hotkey32, hotkey42, hotkey12, hotkey32, t300, hotkey42, s, hotkey22, hotkey12, hotkey42, hotkey32, t305, hotkey42, hotkey32, hotkey42, hotkey32, hotkey42, hotkey32, hotkey42, s, t310, hotkey12, hotkey42, hotkey12, hotkey42, s, s, t315, hotkey40, s, hotkey70, hotkey60, hotkey12, hotkey62, hotkey42, hotkey12, t320, hotkey62, hotkey12, hotkey22, hotkey62, s, hotkey62, hotkey32, hotkey12, t325, s, hotkey10, hotkey22, hotkey32, hotkey42, hotkey32, hotkey42, hotkey32, hotkey42, s, t330, hotkey42, hotkey22, hotkey12, hotkey42, hotkey12, hotkey42, hotkey12, t335, hotkey42, hotkey12, hotkey32, hotkey42, hotkey32, hotkey42, hotkey52, hotkey62, s, t340, hotkey12, hotkey62, hotkey32, t345, hotkey22, hotkey12, hotkey32, s, hotkey32, s, hotkey32, hotkey42, hotkey32, hotkey42, hotkey32, hotkey42, hotkey32, hotkey42, hotkey32, hotkey42, t350, hotkey22, hotkey12, hotkey22, t355, hotkey32, s, s, hotkey22, s, hotkey22, t360, hotkey32, hotkey22, hotkey32, hotkey42, hotkey32, hotkey42, hotkey32, hotkey22, t365, hotkey12, hotkey42, s, hotkey20, hotkey42, hotkey22, hotkey42, t370, hotkey12, hotkey22, t375, hotkey12, hotkey42, hotkey12, hotkey42, t380, s, hotkey42, hotkey32, hotkey42, t385, hotkey52, hotkey42, s, t390, hotkey32, s, hotkey32, s, hotkey20, hotkey12, hotkey22, t395, hotkey42, s, s, s, s, s, s, hotkey22, s, hotkey20, s, hotkey12, hotkey42, hotkey12, t400, s, hotkey10, s, hotkey12, s, s, s, t405, hotkey12, hotkey62, hotkey32, t410, hotkey22, t415, hotkey32, hotkey22, hotkey12, hotkey32, hotkey42, hotkey32, t420, hotkey42, hotkey32, hotkey42, hotkey12, s, hotkey42, s, hotkey22, t425, hotkey12, hotkey42, hotkey32, hotkey62, t430, hotkey32, hotkey12, s, hotkey12, hotkey42, hotkey12, s, t435, hotkey10, s, hotkey32, hotkey42, hotkey32, hotkey42, s, hotkey22, hotkey12, t440, s, hotkey12, t445, hotkey62, hotkey12, s, t450, hotkey12, s, hotkey12, t455, s, hotkey12, s, t460, s, hotkey12, t465, t470, s, hotkey12, s, t475, hotkey12, hotkey42, hotkey12, s, hotkey10, hotkey32, hotkey12, s, hotkey32, hotkey52, t480, s, hotkey50, s, hotkey22, hotkey12, hotkey32, hotkey22, hotkey32, t485, s, hotkey22, s, s, s, hotkey12, t490, s, hotkey12, hotkey32, hotkey42, hotkey32, hotkey42, s, hotkey22, t495, s, s, s, hotkey32, s, s, s, t500, hotkey20, s, hotkey22, s, hotkey20, s, hotkey22, s, hotkey20, hotkey32, hotkey22, t505, s, hotkey20, s, s, hotkey22, hotkey32, t510, s, hotkey12, hotkey52, hotkey12, hotkey52, hotkey12, hotkey52, t515, hotkey12, s, hotkey12, hotkey32, t520, hotkey12, hotkey32, SingleMineral, s, hotkey32, s, hotkey32, hotkey42, s, hotkey32, hotkey52, t525, hotkey12, hotkey32, hotkey12, hotkey52, hotkey32, hotkey12, t530, hotkey32, hotkey12, hotkey32, hotkey12, t535, t540, hotkey42, hotkey32, hotkey12, t545, s, hotkey12, s, hotkey32, hotkey12, hotkey32, hotkey42, hotkey32, t550, hotkey42, hotkey32, hotkey42, s, s, s, hotkey12, s, hotkey32, hotkey12, t555, hotkey32, s, hotkey32, hotkey12, hotkey32, hotkey22, s, t560, s, hotkey12, hotkey42, hotkey12, s, hotkey12, t565, hotkey32, hotkey12, hotkey32, hotkey42, hotkey32, hotkey42, hotkey32, s, hotkey12, s, s, hotkey12, t570, hotkey32, hotkey42, hotkey52, s, hotkey20, hotkey12, t575, hotkey32, hotkey12, hotkey32, hotkey42, s, s, hotkey12, t580, hotkey22, hotkey12, hotkey32, hotkey42, s, hotkey32, hotkey42, t585, hotkey32, hotkey42, s, hotkey12, t590, s, hotkey22, hotkey12, t595, s, hotkey12, t600, s, s, hotkey12, t605, hotkey32, hotkey12, hotkey32, s, hotkey32, hotkey42, s, hotkey20, s, hotkey32, t610, s, hotkey32, hotkey22, hotkey42, hotkey22, s, hotkey42, t615, s, hotkey12, hotkey32, hotkey12, s, hotkey12, t620, hotkey22, s, hotkey20, hotkey32, s, Base, s, t625, hotkey12, s, hotkey12, s, hotkey10, Base, s, hotkey32, Base, s, hotkey90, hotkey00, t630, hotkey12, hotkey32, hotkey12, hotkey32, hotkey42, s, t635, hotkey10, s, hotkey12, s, hotkey12, t640, s, hotkey12, hotkey32, t645, hotkey42, hotkey22, s, hotkey20, hotkey12, hotkey32, hotkey12, hotkey32, t650, hotkey12, s, s, t655, hotkey20, hotkey12, hotkey32, s, hotkey12, hotkey10, hotkey22, hotkey12, t660, hotkey52, hotkey22, hotkey12, hotkey32, t665, s, s, s, hotkey20, hotkey12, hotkey32, hotkey42, s, hotkey32, hotkey12, t670, hotkey42, hotkey12, s, hotkey10, hotkey32, hotkey42, s, hotkey12, t675, hotkey42, hotkey12, hotkey42, hotkey12, s, hotkey10, hotkey32, hotkey42, s, t680, hotkey22, hotkey12, hotkey32, s, s, t685, Base, s, s, hotkey12, hotkey32, hotkey42, hotkey32, hotkey42, hotkey32, s, t690, hotkey12, s, hotkey10, s, hotkey12, hotkey32, hotkey42, hotkey32, hotkey42, s, t695, s, hotkey22, hotkey32, hotkey42, s, hotkey32, hotkey42, t700, hotkey12, hotkey32, hotkey42, s, hotkey12, t705, hotkey32, s, hotkey12, s, t710, s, s, hotkey20, hotkey12, hotkey32, t715, s, hotkey12, hotkey32, hotkey52, t720, hotkey12, hotkey22, hotkey12, hotkey22, hotkey12, t725, hotkey32, s, hotkey12, hotkey22, t730, hotkey12, hotkey32, s, t735, hotkey12, hotkey22, hotkey12, t740, hotkey22, hotkey12, t745, s, s, s, s, t750, s, hotkey12, hotkey22, hotkey12, hotkey32, s, s, hotkey42, t755, hotkey32, s, hotkey12, hotkey22, hotkey12, t760, Base, s, hotkey32, Base, s, hotkey32, Base, s, hotkey32, Base, s, hotkey32, Base, s, hotkey90, hotkey00, hotkey32, hotkey12, t765, hotkey22, hotkey12, s, s, s, hotkey12, t770, hotkey22, hotkey12, hotkey22, hotkey12, hotkey22, hotkey12, hotkey22, hotkey32, hotkey12, hotkey22, hotkey12, hotkey22, t775, hotkey12, hotkey22, hotkey12, hotkey22, t780, hotkey12, hotkey22, hotkey12, hotkey22, hotkey12, s, s, s, t785, hotkey22, hotkey12, hotkey10, hotkey22, hotkey12, hotkey22, hotkey12, hotkey22, hotkey42, s, s, t790, hotkey02, hotkey12, hotkey22, hotkey12, hotkey22, hotkey12, hotkey22, hotkey12, hotkey22, hotkey12, hotkey22, hotkey12, t795, hotkey22, hotkey32, hotkey42, hotkey32, hotkey42, hotkey32, s, hotkey12, t800, hotkey22, hotkey32, hotkey22, hotkey12, hotkey42, hotkey22, t805, hotkey12, hotkey22, hotkey12, hotkey22, hotkey12, hotkey22, hotkey12, hotkey22, hotkey12, hotkey22, hotkey12, hotkey22, hotkey12, hotkey22, t810, hotkey12, hotkey32, hotkey12, hotkey22, hotkey12, hotkey22, hotkey12, t815, hotkey22, hotkey32, hotkey02, hotkey32, hotkey42, s, hotkey12, hotkey22, hotkey12, t820, hotkey22, hotkey12, hotkey22, hotkey12, s, t825, hotkey32, hotkey42, hotkey52, s, hotkey12, hotkey22, hotkey12, hotkey22, hotkey52, hotkey32, hotkey42, hotkey12, hotkey22, hotkey12, t830, s, hotkey32, s, hotkey42, s, hotkey32, hotkey42, hotkey12, t835, s, t840, hotkey12, hotkey10, hotkey32, hotkey42, s, s, t845, hotkey32, hotkey42, hotkey32, hotkey42, s, hotkey32, hotkey52, hotkey32, s, hotkey12, t850, hotkey22, hotkey32, s, s, s, hotkey02, t855, hotkey32, hotkey42, hotkey32, hotkey42, hotkey32, hotkey42, s, t860, t865, hotkey12, hotkey22, hotkey12, hotkey22, hotkey12, t870, hotkey32, Base, s, hotkey32, Base, s, s, hotkey52, hotkey02, s, t875, s, s, hotkey52, hotkey02, s, hotkey12, t880, hotkey22, hotkey12, hotkey32, Base, s, hotkey32, Base, s, hotkey32, Base, s, hotkey32, Base, s, hotkey32, Base, s, hotkey32, t885, hotkey42, hotkey52, hotkey42, s, hotkey32, s, hotkey32, hotkey42, hotkey32, hotkey42, hotkey32, hotkey42, hotkey22, t890, hotkey02, hotkey22, hotkey32, hotkey42, hotkey32, hotkey42, hotkey52, hotkey32, hotkey42, hotkey52, s, t895, hotkey32, hotkey42, hotkey52, hotkey22, hotkey12, hotkey32, Base, s, hotkey32, t900, Base, s, s, hotkey22, hotkey12, hotkey02, hotkey12, hotkey32, t905, Base, s, hotkey12, hotkey02, hotkey22, hotkey12, t910, hotkey22, hotkey02, t915, hotkey22, hotkey12, hotkey32, s, hotkey12, hotkey22, hotkey52, hotkey12, t920, hotkey22, hotkey12, hotkey52, s, hotkey60, s, hotkey60, hotkey12, hotkey52, hotkey12, hotkey52, t925, hotkey22, hotkey52, hotkey12, hotkey32, Base, s, hotkey32, Base, s, hotkey32, Base, s, hotkey32, Base, s, s, t930, s, hotkey12, hotkey22, t935, Base, s, hotkey32, Base, s, s, s, hotkey12, t940, hotkey22, hotkey12, t945, t950, hotkey52, hotkey12, hotkey52, hotkey02, hotkey52, hotkey12, t955, hotkey52, hotkey12, hotkey22, hotkey12, hotkey32, hotkey42, s, t960, hotkey20, s, hotkey20, s, hotkey10, t965, hotkey42, hotkey12, hotkey42, hotkey12, hotkey42, hotkey12, s, hotkey10, t970, s, s, s, s, s, hotkey10, s, hotkey12, hotkey10, hotkey52, t975, hotkey02, s, hotkey12, hotkey22, t980, hotkey12, t985, s, s, hotkey12, hotkey10, s, s, t990, s, hotkey10, s, hotkey20, hotkey12, s, hotkey22, t995, hotkey12, hotkey22, hotkey12, hotkey10, t1000, hotkey42, hotkey12, hotkey42, hotkey52, hotkey02, hotkey42, hotkey32, hotkey02, t1005, hotkey12, s, hotkey10, s, hotkey10, hotkey22, hotkey12, t1010, s, hotkey12, hotkey32, hotkey42, s, t1015, hotkey22, hotkey12, hotkey22, hotkey12, hotkey10, s, t1020, hotkey12, s, s, hotkey32, hotkey42, hotkey52, s, hotkey12, t1025, hotkey42, hotkey12, s, hotkey12, s, hotkey12, s, hotkey32, hotkey42, s, t1030, s, hotkey42, hotkey52, hotkey02, hotkey42, hotkey12, hotkey10, s, s, hotkey12, hotkey10, t1035, hotkey42, hotkey12, s, hotkey42, s, hotkey20, hotkey12, hotkey22, hotkey20, hotkey12, t1040, hotkey42, hotkey12, hotkey22, hotkey12, hotkey22, hotkey12, t1045, hotkey22, s, hotkey20, s, hotkey20, hotkey12, s, t1050, hotkey12, hotkey22, hotkey20, hotkey12, hotkey10, t1055, s, hotkey10, hotkey52, hotkey32, hotkey42, hotkey52, hotkey12, t1060, s, hotkey12, s, hotkey10, hotkey42, hotkey12, s, hotkey10, hotkey32, hotkey42, hotkey52, t1065, hotkey62, s, hotkey20, s, hotkey22, hotkey12, s, t1070, hotkey12, s, hotkey10, t1075, hotkey22, t1080, s, s, hotkey12, hotkey22, hotkey52, t1085, s, hotkey52, hotkey02, s, hotkey22, t1090, hotkey12, hotkey32, Base, s, t1095, hotkey32, hotkey42, s, s, hotkey32, hotkey42, hotkey52, s, hotkey12, hotkey22, t1100, hotkey32, hotkey22, hotkey12, hotkey52, hotkey32, t1105, hotkey42, hotkey52, hotkey32, s, t1110, s, hotkey12, t1115, hotkey32, hotkey42, hotkey32, hotkey42, Base, s, s, s, t1120, hotkey32, hotkey12, hotkey22, hotkey12, t1125, hotkey32, s, hotkey52, hotkey12, hotkey22, t1130, hotkey12, s, hotkey10, hotkey20, hotkey52, hotkey02, t1135, Base, s, hotkey32, Base, s, hotkey32, Base, s, hotkey42, hotkey32, hotkey42, hotkey12, t1140, s, hotkey10, hotkey32, hotkey42, hotkey32, hotkey42, s, t1145, hotkey32, hotkey42, hotkey32, hotkey42, s, hotkey20, hotkey32, hotkey42, t1150, hotkey32, hotkey42, hotkey52, s, hotkey32, hotkey42, hotkey52, s, s, s, s, s, hotkey12, t1155, hotkey52, s, s, hotkey50, s, hotkey50, hotkey22, s, hotkey32, hotkey42, hotkey52, s, t1160, hotkey22, t1165, hotkey02, hotkey22, hotkey52, hotkey22, s, t1170, s, hotkey10, s, hotkey20, hotkey12, hotkey52, t1175, hotkey12, hotkey52, hotkey12, s, s, hotkey32, hotkey42, hotkey32, hotkey42, hotkey32, s, t1180, hotkey62, hotkey12, hotkey52, hotkey12, hotkey62, hotkey22, t1185, hotkey52, s, t1190, hotkey22, s, t1195, hotkey22, t1200, t1205, hotkey52, hotkey02, Base, s, hotkey32, Base, s, hotkey32, Base, s, t1210, hotkey42, hotkey12, s, hotkey10, hotkey22, s, s, s, t1215, s, hotkey22, hotkey20, hotkey32, hotkey42, hotkey32, hotkey42, hotkey32, hotkey42, s, t1220, s, hotkey42, s, hotkey40, hotkey22, hotkey42, hotkey52, hotkey02, hotkey42, s, t1225, hotkey40, hotkey22, s, hotkey20, hotkey52, hotkey22, hotkey52, hotkey22, t1230, hotkey52, hotkey02, s, hotkey22, s, hotkey42, hotkey32, Base, s, hotkey32, Base, s, hotkey32, Base, s, s, hotkey52, hotkey32, hotkey42, s, hotkey42, t1235, hotkey22, hotkey32, hotkey42, hotkey52, s, Base, s, hotkey42, t1240, s, hotkey22, hotkey42, hotkey52, hotkey02, s, hotkey22, t1245, t1250, hotkey32, hotkey42, s, s, hotkey10, s, hotkey10, t1255, s, hotkey12, s, hotkey10, s, hotkey32, hotkey42, s, hotkey22, t1260, hotkey52, hotkey02, s, hotkey12, hotkey42, hotkey12, s, t1265, hotkey10, s, hotkey22, t1270, hotkey32, hotkey42, s, t1275, hotkey22, t1280, hotkey32, hotkey42, s, s, s, hotkey22, hotkey20, t1285, t1290, s, hotkey22, hotkey12, hotkey52, t1295, hotkey12, s, hotkey10, hotkey52, hotkey02, hotkey42, s, hotkey22, t1300, hotkey42, hotkey22, t1305, s, s, hotkey20, s, hotkey20, s, hotkey20, s, s, hotkey20, s, t1310, hotkey12, hotkey42, hotkey12, hotkey42, t1315, hotkey12, s, hotkey10, hotkey52, hotkey02, Base, s, hotkey32, Base, s, s, t1320, hotkey42, hotkey52, hotkey02, s, s, hotkey12, t1325, s, s, s, hotkey42, hotkey12, s, hotkey10, s, t1330, hotkey12, hotkey32, hotkey42, s, hotkey20, hotkey12, s, hotkey12, t1335, s, hotkey32, hotkey42, s, hotkey32, Base, s, hotkey12, t1340, s, hotkey42, hotkey52, hotkey02, hotkey12, hotkey32, hotkey42, t1345, s, hotkey32, hotkey42, hotkey52, s, t1350, hotkey12, hotkey32, Base, s, hotkey32, Base, s, hotkey32, Base, s, s, hotkey12, t1355, hotkey22, hotkey12, hotkey42, hotkey12, hotkey22, t1360, s, hotkey42, hotkey22, hotkey12, hotkey22, t1365, hotkey32, hotkey42, s, hotkey32, hotkey42, s, hotkey12, t1370, s, s, s, hotkey12, s, hotkey10, hotkey22, hotkey42, t1375, hotkey12, s, hotkey10, hotkey22, s, hotkey52, s, t1380, Base, s, hotkey02, Base, s, hotkey90, hotkey00, s, s, hotkey32, hotkey42, hotkey52, s, t1385, hotkey52, s, s, hotkey52, s, s, t1390, hotkey62, s, hotkey52, s, s, hotkey52, hotkey12, t1395, s, hotkey10, hotkey22, hotkey12, hotkey22, hotkey52, hotkey62, hotkey02, hotkey32, hotkey42, hotkey52, t1400, s, hotkey32, hotkey42, hotkey52, s, Base, s, t1405, hotkey12, hotkey22, hotkey32, hotkey42, hotkey52, s, hotkey02, s, hotkey12, t1410, s, s, t1415, s, hotkey12, hotkey22, t1420, hotkey52, hotkey12, s, hotkey12, t1425, s, hotkey12, s, hotkey12, s, hotkey10, t1430, hotkey22, hotkey32, hotkey42, hotkey52, s, hotkey52, s, hotkey52, t1435, hotkey12, hotkey22, hotkey52, hotkey02, s, hotkey32, Base, s, hotkey32, Base, s, hotkey32, Base, s, hotkey32, Base, s, hotkey32, Base, s, hotkey32, t1440, Base, s, Base, s, hotkey32, hotkey42, s, hotkey02, t1445, s, hotkey02, Base, s, hotkey90, hotkey00, t1450, s, hotkey12, hotkey22, hotkey12, hotkey22, hotkey52, t1455, hotkey02, hotkey32, Base, s, hotkey32, Base, s, hotkey32, Base, s, hotkey32, Base, s, Base, s, hotkey42, hotkey52, hotkey42, hotkey52, t1460, hotkey42, hotkey52, s, s, hotkey32, hotkey42, hotkey52, hotkey62, s, s, hotkey62, t1465, hotkey52, hotkey12, hotkey32, hotkey42, s, s, hotkey12, hotkey32, hotkey42, hotkey52, s, t1470, hotkey52, hotkey02, s, s, s, t1475, hotkey12, hotkey42, hotkey32, hotkey42, hotkey52, s, s, t1480, s, hotkey32, hotkey42, s, s, hotkey12, s, hotkey10, s, hotkey02, t1485, s, s, hotkey32, hotkey42, hotkey32, hotkey42, hotkey52, hotkey62, s, s, s, t1490, hotkey02, hotkey12, hotkey52, s, t1495, s, s, s, hotkey52, t1500, hotkey02, hotkey12, hotkey52, hotkey12, s, hotkey10, s, s, hotkey52, t1505, s, hotkey52, s, hotkey52, hotkey12, hotkey42, s, hotkey12, s, hotkey10, t1510, s, s, hotkey32, hotkey42, hotkey52, s, hotkey32, hotkey42, s, hotkey12, s, s, s, hotkey10, t1515, hotkey02, s, s, t1520, s, hotkey12, hotkey22, hotkey12, hotkey22, hotkey42, t1525, hotkey12, hotkey22, hotkey12, hotkey22, Base, s, hotkey02, s, t1530, hotkey12, hotkey42, s, Base, s, hotkey42, hotkey32, hotkey42, hotkey52, s, hotkey12, t1535, s, s, hotkey12, s, hotkey12, hotkey22, t1540, s, hotkey42, hotkey12, hotkey22, hotkey12, hotkey22, s, t1545, hotkey12, s, s, hotkey12, hotkey22, hotkey12, hotkey22, hotkey12, s, t1550, hotkey10, hotkey22, hotkey12, s, hotkey10, hotkey22, hotkey32, hotkey42, s, hotkey52, s, t1555, s, s, s, hotkey52, hotkey02, s, hotkey42, s, s, hotkey40, t1560, s, Base, s, Base, s, hotkey12, hotkey22, hotkey32, hotkey42, hotkey32, hotkey42, hotkey52, s, t1565, s, s, s, hotkey32, hotkey42, hotkey32, hotkey42, hotkey32, hotkey42, hotkey12, hotkey52, hotkey02, hotkey12, t1570, s, s, s, t1575, hotkey12, hotkey42, t1580, hotkey12, s, hotkey10, s, hotkey12, t1585, s, s, s, hotkey12, s, hotkey10, s, t1590, hotkey12, s, hotkey42, t1595, hotkey12, hotkey22, hotkey12, s, hotkey10, s, hotkey22, s, t1600, s, hotkey12, s, s, hotkey12, s, hotkey12, t1605, hotkey10, hotkey42, s, hotkey42, s, hotkey12, hotkey22, s, s, t1610, hotkey42, hotkey12, s, hotkey10, s, s, hotkey12, s, t1615, hotkey10, hotkey22, s, s, hotkey22, s, t1620, hotkey12, hotkey22, hotkey12, s, hotkey32, hotkey42, hotkey52, hotkey12, t1625, s, hotkey42, hotkey32, hotkey42, hotkey52, hotkey42, t1630, hotkey32, hotkey42, hotkey52, s, hotkey42, hotkey12, s, s, s, s, s, t1635, s, s, s, hotkey42, s, hotkey32, hotkey42, hotkey52, s, t1640, hotkey32, hotkey42, hotkey52, s, hotkey32, hotkey42, s, hotkey32, hotkey42, hotkey52, s, t1645, s, s, hotkey10, s, hotkey10, t1650, s, hotkey10, s, s, hotkey32, hotkey42, hotkey52, hotkey62, t1655'"
            ]
          },
          "metadata": {
            "tags": []
          },
          "execution_count": 14
        }
      ]
    },
    {
      "cell_type": "markdown",
      "metadata": {
        "id": "GKmwubx2lrby"
      },
      "source": [
        "##Statistics"
      ]
    },
    {
      "cell_type": "code",
      "metadata": {
        "id": "6R0YNL0cluGp",
        "outputId": "7bbbc252-3b4d-448c-b027-fe75f7ebb620",
        "colab": {
          "base_uri": "https://localhost:8080/",
          "height": 376
        }
      },
      "source": [
        "print(train_data.race.value_counts())\n",
        "train_data.race.value_counts().plot.bar()"
      ],
      "execution_count": 15,
      "outputs": [
        {
          "output_type": "stream",
          "text": [
            "Protoss    1210\n",
            "Zerg       1061\n",
            "Terran      781\n",
            "Name: race, dtype: int64\n"
          ],
          "name": "stdout"
        },
        {
          "output_type": "execute_result",
          "data": {
            "text/plain": [
              "<matplotlib.axes._subplots.AxesSubplot at 0x7f6b21af2518>"
            ]
          },
          "metadata": {
            "tags": []
          },
          "execution_count": 15
        },
        {
          "output_type": "display_data",
          "data": {
            "image/png": "[encoded data removed]",
            "text/plain": [
              "<Figure size 432x288 with 1 Axes>"
            ]
          },
          "metadata": {
            "tags": [],
            "needs_background": "light"
          }
        }
      ]
    },
    {
      "cell_type": "code",
      "metadata": {
        "id": "foJ_vpdsl3I5",
        "outputId": "163acadf-817c-47b0-eaa5-506f021764e0",
        "colab": {
          "base_uri": "https://localhost:8080/",
          "height": 102
        }
      },
      "source": [
        "players.describe()"
      ],
      "execution_count": 16,
      "outputs": [
        {
          "output_type": "execute_result",
          "data": {
            "text/plain": [
              "count                                                  3052\n",
              "unique                                                  200\n",
              "top       http://kr.battle.net/sc2/en/profile/2348639/1/...\n",
              "freq                                                     58\n",
              "dtype: object"
            ]
          },
          "metadata": {
            "tags": []
          },
          "execution_count": 16
        }
      ]
    },
    {
      "cell_type": "markdown",
      "metadata": {
        "id": "LdGFLip0n48A"
      },
      "source": [
        "##PREPROCESSING"
      ]
    },
    {
      "cell_type": "code",
      "metadata": {
        "id": "BCX-BU1Mn7bH"
      },
      "source": [
        "#Getting the list of actions\n",
        "\n",
        "def get_unique_actions(df):\n",
        "  unique_actions = set()\n",
        "  actions = df.actions\n",
        "  for action in actions:\n",
        "    for a in action.split(','):\n",
        "      a = a.strip()\n",
        "      if a != '' and a[0] != 't':\n",
        "        unique_actions.add(a)\n",
        "  return sorted(list(unique_actions))"
      ],
      "execution_count": 31,
      "outputs": []
    },
    {
      "cell_type": "code",
      "metadata": {
        "id": "RQdeYz3CIBqC",
        "outputId": "119c78e3-f0e1-4a3c-872d-7c2894bd458f",
        "colab": {
          "base_uri": "https://localhost:8080/",
          "height": 54
        }
      },
      "source": [
        "# all the unique actions a player can do\n",
        "unique_actions = get_unique_actions(train_data)\n",
        "print(unique_actions)"
      ],
      "execution_count": 32,
      "outputs": [
        {
          "output_type": "stream",
          "text": [
            "['Base', 'SingleMineral', 'hotkey00', 'hotkey01', 'hotkey02', 'hotkey10', 'hotkey11', 'hotkey12', 'hotkey20', 'hotkey21', 'hotkey22', 'hotkey30', 'hotkey31', 'hotkey32', 'hotkey40', 'hotkey41', 'hotkey42', 'hotkey50', 'hotkey51', 'hotkey52', 'hotkey60', 'hotkey61', 'hotkey62', 'hotkey70', 'hotkey71', 'hotkey72', 'hotkey80', 'hotkey81', 'hotkey82', 'hotkey90', 'hotkey91', 'hotkey92', 's']\n"
          ],
          "name": "stdout"
        }
      ]
    },
    {
      "cell_type": "code",
      "metadata": {
        "id": "g-66XURJILmT",
        "outputId": "6898a4e6-11a3-4add-e3e2-d62377638a65",
        "colab": {
          "base_uri": "https://localhost:8080/",
          "height": 34
        }
      },
      "source": [
        "# all the unique hotkey the player can press\n",
        "unique_hotkeys = list(set([hotkey[:-1] for hotkey in unique_actions if 'hotkey' in hotkey]))\n",
        "unique_hotkeys = sorted(unique_hotkeys)\n",
        "print(unique_hotkeys)"
      ],
      "execution_count": 33,
      "outputs": [
        {
          "output_type": "stream",
          "text": [
            "['hotkey0', 'hotkey1', 'hotkey2', 'hotkey3', 'hotkey4', 'hotkey5', 'hotkey6', 'hotkey7', 'hotkey8', 'hotkey9']\n"
          ],
          "name": "stdout"
        }
      ]
    },
    {
      "cell_type": "code",
      "metadata": {
        "id": "a_oD2WdWLa0i"
      },
      "source": [
        "# Defining the features \n",
        "# We're going to use the count of hotkeys, the count of unique keys, \n",
        "# the 10 first actions and the count of hotkeys use every 30s between 0 and 120s\n",
        "first_actions_names = ['action_'+str(i) for i in range(1, 21)]\n",
        "le = LabelEncoder()\n",
        "\n",
        "def get_features(df):\n",
        "  hotkeys = unique_actions\n",
        "  keys = unique_hotkeys\n",
        "  features = []\n",
        "  for i, row in df.iterrows():\n",
        "    first_actions = [] # Keeping track of the first x hotkeys\n",
        "    race = row[\"race\"]\n",
        "    actions = row[\"actions\"]     \n",
        "    hotkeys_count = {hotkey:0 for hotkey in hotkeys}\n",
        "    hotkeys_30s_count = {hotkey:0 for hotkey in hotkeys}\n",
        "    hotkeys_60s_count = {hotkey:0 for hotkey in hotkeys}\n",
        "    hotkeys_90s_count = {hotkey:0 for hotkey in hotkeys}\n",
        "    hotkeys_120s_count = {hotkey:0 for hotkey in hotkeys}\n",
        "    keys_count = {hotkey:0 for hotkey in keys}\n",
        "\n",
        "    t_30s = False\n",
        "    t_60s = False\n",
        "    t_90s = False\n",
        "    t_120s = False\n",
        "\n",
        "    for action in actions.split(','):\n",
        "      action = action.strip()\n",
        "      if action in hotkeys:\n",
        "        hotkeys_count[action]+=1\n",
        "        #Putting actions realized every 30s in each count\n",
        "        if not t_30s: \n",
        "          hotkeys_30s_count[action]+=1\n",
        "        if not t_60s:\n",
        "          hotkeys_60s_count[action]+=1\n",
        "        if not t_90s:\n",
        "          hotkeys_90s_count[action]+=1\n",
        "        if not t_120s:\n",
        "          hotkeys_60s_count[action]+=1\n",
        "\n",
        "      if 'hotkey' in action:\n",
        "        keys_count[action[:len(action)-1]] += 1\n",
        "      if len(first_actions) < len(first_actions_names) and action in hotkeys:\n",
        "        first_actions.append(action)\n",
        "\n",
        "      if 't30' in action:\n",
        "        t_30s = True\n",
        "      if 't60' in action:\n",
        "        t_60s = True\n",
        "      if 't90' in action:\n",
        "        t_90s = True\n",
        "      if 't120' in action:\n",
        "        t_120s = True\n",
        "      \n",
        "    while len(first_actions) < len(first_actions_names):\n",
        "      first_actions.append('None')\n",
        "\n",
        "    current = [race, *[hotkeys_count[hotkey] for hotkey in hotkeys], \n",
        "               *[hotkeys_30s_count[hotkey] for hotkey in hotkeys], \n",
        "               *[hotkeys_60s_count[hotkey] for hotkey in hotkeys],\n",
        "               *[hotkeys_90s_count[hotkey] for hotkey in hotkeys],\n",
        "               *[hotkeys_120s_count[hotkey] for hotkey in hotkeys],\n",
        "               *[keys_count[key] for key in keys], *first_actions]\n",
        "    features.append(current)\n",
        "\n",
        "  new_df = pd.DataFrame(features, columns=['race', *hotkeys, \n",
        "                                           *[hotkey +'_30s' for hotkey in hotkeys], \n",
        "                                           *[hotkey +'_60s' for hotkey in hotkeys],\n",
        "                                           *[hotkey +'_90s' for hotkey in hotkeys],\n",
        "                                           *[hotkey +'_120s' for hotkey in hotkeys],\n",
        "                                           *keys, *first_actions_names])\n",
        "  \n",
        "  new_df = pd.get_dummies(new_df, columns=['race'])\n",
        "  \n",
        "  for col in first_actions_names:\n",
        "    new_df[col] = le.fit_transform(new_df[col])\n",
        "  return new_df"
      ],
      "execution_count": 34,
      "outputs": []
    },
    {
      "cell_type": "code",
      "metadata": {
        "id": "LxzPIYDpgoUK",
        "outputId": "56c934d1-9272-482f-f068-ec1eed14a5dc",
        "colab": {
          "base_uri": "https://localhost:8080/",
          "height": 253
        }
      },
      "source": [
        "# Show the data\n",
        "features = get_features(train_data)\n",
        "features.head()"
      ],
      "execution_count": 35,
      "outputs": [
        {
          "output_type": "execute_result",
          "data": {
            "text/html": [
              "<div>\n",
              "<style scoped>\n",
              "    .dataframe tbody tr th:only-of-type {\n",
              "        vertical-align: middle;\n",
              "    }\n",
              "\n",
              "    .dataframe tbody tr th {\n",
              "        vertical-align: top;\n",
              "    }\n",
              "\n",
              "    .dataframe thead th {\n",
              "        text-align: right;\n",
              "    }\n",
              "</style>\n",
              "<table border=\"1\" class=\"dataframe\">\n",
              "  <thead>\n",
              "    <tr style=\"text-align: right;\">\n",
              "      <th></th>\n",
              "      <th>Base</th>\n",
              "      <th>SingleMineral</th>\n",
              "      <th>hotkey00</th>\n",
              "      <th>hotkey01</th>\n",
              "      <th>hotkey02</th>\n",
              "      <th>hotkey10</th>\n",
              "      <th>hotkey11</th>\n",
              "      <th>hotkey12</th>\n",
              "      <th>hotkey20</th>\n",
              "      <th>hotkey21</th>\n",
              "      <th>hotkey22</th>\n",
              "      <th>hotkey30</th>\n",
              "      <th>hotkey31</th>\n",
              "      <th>hotkey32</th>\n",
              "      <th>hotkey40</th>\n",
              "      <th>hotkey41</th>\n",
              "      <th>hotkey42</th>\n",
              "      <th>hotkey50</th>\n",
              "      <th>hotkey51</th>\n",
              "      <th>hotkey52</th>\n",
              "      <th>hotkey60</th>\n",
              "      <th>hotkey61</th>\n",
              "      <th>hotkey62</th>\n",
              "      <th>hotkey70</th>\n",
              "      <th>hotkey71</th>\n",
              "      <th>hotkey72</th>\n",
              "      <th>hotkey80</th>\n",
              "      <th>hotkey81</th>\n",
              "      <th>hotkey82</th>\n",
              "      <th>hotkey90</th>\n",
              "      <th>hotkey91</th>\n",
              "      <th>hotkey92</th>\n",
              "      <th>s</th>\n",
              "      <th>Base_30s</th>\n",
              "      <th>SingleMineral_30s</th>\n",
              "      <th>hotkey00_30s</th>\n",
              "      <th>hotkey01_30s</th>\n",
              "      <th>hotkey02_30s</th>\n",
              "      <th>hotkey10_30s</th>\n",
              "      <th>hotkey11_30s</th>\n",
              "      <th>...</th>\n",
              "      <th>hotkey80_120s</th>\n",
              "      <th>hotkey81_120s</th>\n",
              "      <th>hotkey82_120s</th>\n",
              "      <th>hotkey90_120s</th>\n",
              "      <th>hotkey91_120s</th>\n",
              "      <th>hotkey92_120s</th>\n",
              "      <th>s_120s</th>\n",
              "      <th>hotkey0</th>\n",
              "      <th>hotkey1</th>\n",
              "      <th>hotkey2</th>\n",
              "      <th>hotkey3</th>\n",
              "      <th>hotkey4</th>\n",
              "      <th>hotkey5</th>\n",
              "      <th>hotkey6</th>\n",
              "      <th>hotkey7</th>\n",
              "      <th>hotkey8</th>\n",
              "      <th>hotkey9</th>\n",
              "      <th>action_1</th>\n",
              "      <th>action_2</th>\n",
              "      <th>action_3</th>\n",
              "      <th>action_4</th>\n",
              "      <th>action_5</th>\n",
              "      <th>action_6</th>\n",
              "      <th>action_7</th>\n",
              "      <th>action_8</th>\n",
              "      <th>action_9</th>\n",
              "      <th>action_10</th>\n",
              "      <th>action_11</th>\n",
              "      <th>action_12</th>\n",
              "      <th>action_13</th>\n",
              "      <th>action_14</th>\n",
              "      <th>action_15</th>\n",
              "      <th>action_16</th>\n",
              "      <th>action_17</th>\n",
              "      <th>action_18</th>\n",
              "      <th>action_19</th>\n",
              "      <th>action_20</th>\n",
              "      <th>race_Protoss</th>\n",
              "      <th>race_Terran</th>\n",
              "      <th>race_Zerg</th>\n",
              "    </tr>\n",
              "  </thead>\n",
              "  <tbody>\n",
              "    <tr>\n",
              "      <th>0</th>\n",
              "      <td>66</td>\n",
              "      <td>5</td>\n",
              "      <td>5</td>\n",
              "      <td>0</td>\n",
              "      <td>41</td>\n",
              "      <td>63</td>\n",
              "      <td>0</td>\n",
              "      <td>350</td>\n",
              "      <td>37</td>\n",
              "      <td>0</td>\n",
              "      <td>185</td>\n",
              "      <td>1</td>\n",
              "      <td>0</td>\n",
              "      <td>401</td>\n",
              "      <td>5</td>\n",
              "      <td>0</td>\n",
              "      <td>255</td>\n",
              "      <td>4</td>\n",
              "      <td>0</td>\n",
              "      <td>114</td>\n",
              "      <td>3</td>\n",
              "      <td>0</td>\n",
              "      <td>18</td>\n",
              "      <td>1</td>\n",
              "      <td>0</td>\n",
              "      <td>0</td>\n",
              "      <td>0</td>\n",
              "      <td>0</td>\n",
              "      <td>0</td>\n",
              "      <td>4</td>\n",
              "      <td>0</td>\n",
              "      <td>0</td>\n",
              "      <td>674</td>\n",
              "      <td>2</td>\n",
              "      <td>0</td>\n",
              "      <td>1</td>\n",
              "      <td>0</td>\n",
              "      <td>0</td>\n",
              "      <td>0</td>\n",
              "      <td>0</td>\n",
              "      <td>...</td>\n",
              "      <td>0</td>\n",
              "      <td>0</td>\n",
              "      <td>0</td>\n",
              "      <td>0</td>\n",
              "      <td>0</td>\n",
              "      <td>0</td>\n",
              "      <td>0</td>\n",
              "      <td>46</td>\n",
              "      <td>413</td>\n",
              "      <td>222</td>\n",
              "      <td>402</td>\n",
              "      <td>260</td>\n",
              "      <td>118</td>\n",
              "      <td>21</td>\n",
              "      <td>1</td>\n",
              "      <td>0</td>\n",
              "      <td>4</td>\n",
              "      <td>0</td>\n",
              "      <td>9</td>\n",
              "      <td>16</td>\n",
              "      <td>21</td>\n",
              "      <td>24</td>\n",
              "      <td>25</td>\n",
              "      <td>0</td>\n",
              "      <td>29</td>\n",
              "      <td>10</td>\n",
              "      <td>3</td>\n",
              "      <td>26</td>\n",
              "      <td>11</td>\n",
              "      <td>28</td>\n",
              "      <td>11</td>\n",
              "      <td>28</td>\n",
              "      <td>11</td>\n",
              "      <td>28</td>\n",
              "      <td>11</td>\n",
              "      <td>26</td>\n",
              "      <td>11</td>\n",
              "      <td>1</td>\n",
              "      <td>0</td>\n",
              "      <td>0</td>\n",
              "    </tr>\n",
              "    <tr>\n",
              "      <th>1</th>\n",
              "      <td>12</td>\n",
              "      <td>0</td>\n",
              "      <td>2</td>\n",
              "      <td>0</td>\n",
              "      <td>83</td>\n",
              "      <td>65</td>\n",
              "      <td>3</td>\n",
              "      <td>448</td>\n",
              "      <td>15</td>\n",
              "      <td>0</td>\n",
              "      <td>215</td>\n",
              "      <td>7</td>\n",
              "      <td>0</td>\n",
              "      <td>342</td>\n",
              "      <td>3</td>\n",
              "      <td>0</td>\n",
              "      <td>308</td>\n",
              "      <td>0</td>\n",
              "      <td>0</td>\n",
              "      <td>0</td>\n",
              "      <td>0</td>\n",
              "      <td>0</td>\n",
              "      <td>0</td>\n",
              "      <td>0</td>\n",
              "      <td>0</td>\n",
              "      <td>0</td>\n",
              "      <td>1</td>\n",
              "      <td>0</td>\n",
              "      <td>16</td>\n",
              "      <td>1</td>\n",
              "      <td>0</td>\n",
              "      <td>18</td>\n",
              "      <td>538</td>\n",
              "      <td>3</td>\n",
              "      <td>0</td>\n",
              "      <td>0</td>\n",
              "      <td>0</td>\n",
              "      <td>0</td>\n",
              "      <td>0</td>\n",
              "      <td>0</td>\n",
              "      <td>...</td>\n",
              "      <td>0</td>\n",
              "      <td>0</td>\n",
              "      <td>0</td>\n",
              "      <td>0</td>\n",
              "      <td>0</td>\n",
              "      <td>0</td>\n",
              "      <td>0</td>\n",
              "      <td>85</td>\n",
              "      <td>516</td>\n",
              "      <td>230</td>\n",
              "      <td>349</td>\n",
              "      <td>311</td>\n",
              "      <td>0</td>\n",
              "      <td>0</td>\n",
              "      <td>0</td>\n",
              "      <td>17</td>\n",
              "      <td>19</td>\n",
              "      <td>3</td>\n",
              "      <td>0</td>\n",
              "      <td>16</td>\n",
              "      <td>21</td>\n",
              "      <td>0</td>\n",
              "      <td>25</td>\n",
              "      <td>27</td>\n",
              "      <td>0</td>\n",
              "      <td>27</td>\n",
              "      <td>10</td>\n",
              "      <td>26</td>\n",
              "      <td>11</td>\n",
              "      <td>28</td>\n",
              "      <td>11</td>\n",
              "      <td>28</td>\n",
              "      <td>11</td>\n",
              "      <td>28</td>\n",
              "      <td>11</td>\n",
              "      <td>26</td>\n",
              "      <td>11</td>\n",
              "      <td>1</td>\n",
              "      <td>0</td>\n",
              "      <td>0</td>\n",
              "    </tr>\n",
              "    <tr>\n",
              "      <th>2</th>\n",
              "      <td>47</td>\n",
              "      <td>3</td>\n",
              "      <td>3</td>\n",
              "      <td>0</td>\n",
              "      <td>18</td>\n",
              "      <td>17</td>\n",
              "      <td>0</td>\n",
              "      <td>130</td>\n",
              "      <td>9</td>\n",
              "      <td>0</td>\n",
              "      <td>126</td>\n",
              "      <td>1</td>\n",
              "      <td>0</td>\n",
              "      <td>320</td>\n",
              "      <td>7</td>\n",
              "      <td>0</td>\n",
              "      <td>130</td>\n",
              "      <td>3</td>\n",
              "      <td>0</td>\n",
              "      <td>88</td>\n",
              "      <td>1</td>\n",
              "      <td>0</td>\n",
              "      <td>11</td>\n",
              "      <td>0</td>\n",
              "      <td>0</td>\n",
              "      <td>0</td>\n",
              "      <td>0</td>\n",
              "      <td>0</td>\n",
              "      <td>0</td>\n",
              "      <td>2</td>\n",
              "      <td>0</td>\n",
              "      <td>2</td>\n",
              "      <td>430</td>\n",
              "      <td>2</td>\n",
              "      <td>0</td>\n",
              "      <td>1</td>\n",
              "      <td>0</td>\n",
              "      <td>0</td>\n",
              "      <td>0</td>\n",
              "      <td>0</td>\n",
              "      <td>...</td>\n",
              "      <td>0</td>\n",
              "      <td>0</td>\n",
              "      <td>0</td>\n",
              "      <td>0</td>\n",
              "      <td>0</td>\n",
              "      <td>0</td>\n",
              "      <td>0</td>\n",
              "      <td>21</td>\n",
              "      <td>147</td>\n",
              "      <td>135</td>\n",
              "      <td>321</td>\n",
              "      <td>137</td>\n",
              "      <td>91</td>\n",
              "      <td>12</td>\n",
              "      <td>0</td>\n",
              "      <td>0</td>\n",
              "      <td>4</td>\n",
              "      <td>0</td>\n",
              "      <td>9</td>\n",
              "      <td>16</td>\n",
              "      <td>21</td>\n",
              "      <td>0</td>\n",
              "      <td>25</td>\n",
              "      <td>11</td>\n",
              "      <td>3</td>\n",
              "      <td>27</td>\n",
              "      <td>11</td>\n",
              "      <td>26</td>\n",
              "      <td>11</td>\n",
              "      <td>28</td>\n",
              "      <td>11</td>\n",
              "      <td>28</td>\n",
              "      <td>11</td>\n",
              "      <td>28</td>\n",
              "      <td>27</td>\n",
              "      <td>11</td>\n",
              "      <td>25</td>\n",
              "      <td>1</td>\n",
              "      <td>0</td>\n",
              "      <td>0</td>\n",
              "    </tr>\n",
              "    <tr>\n",
              "      <th>3</th>\n",
              "      <td>21</td>\n",
              "      <td>0</td>\n",
              "      <td>2</td>\n",
              "      <td>0</td>\n",
              "      <td>39</td>\n",
              "      <td>32</td>\n",
              "      <td>1</td>\n",
              "      <td>259</td>\n",
              "      <td>14</td>\n",
              "      <td>0</td>\n",
              "      <td>70</td>\n",
              "      <td>6</td>\n",
              "      <td>0</td>\n",
              "      <td>245</td>\n",
              "      <td>3</td>\n",
              "      <td>0</td>\n",
              "      <td>284</td>\n",
              "      <td>0</td>\n",
              "      <td>0</td>\n",
              "      <td>0</td>\n",
              "      <td>0</td>\n",
              "      <td>0</td>\n",
              "      <td>0</td>\n",
              "      <td>0</td>\n",
              "      <td>0</td>\n",
              "      <td>0</td>\n",
              "      <td>0</td>\n",
              "      <td>0</td>\n",
              "      <td>0</td>\n",
              "      <td>1</td>\n",
              "      <td>0</td>\n",
              "      <td>14</td>\n",
              "      <td>397</td>\n",
              "      <td>3</td>\n",
              "      <td>0</td>\n",
              "      <td>0</td>\n",
              "      <td>0</td>\n",
              "      <td>0</td>\n",
              "      <td>0</td>\n",
              "      <td>0</td>\n",
              "      <td>...</td>\n",
              "      <td>0</td>\n",
              "      <td>0</td>\n",
              "      <td>0</td>\n",
              "      <td>0</td>\n",
              "      <td>0</td>\n",
              "      <td>0</td>\n",
              "      <td>0</td>\n",
              "      <td>41</td>\n",
              "      <td>292</td>\n",
              "      <td>84</td>\n",
              "      <td>251</td>\n",
              "      <td>287</td>\n",
              "      <td>0</td>\n",
              "      <td>0</td>\n",
              "      <td>0</td>\n",
              "      <td>0</td>\n",
              "      <td>15</td>\n",
              "      <td>0</td>\n",
              "      <td>9</td>\n",
              "      <td>16</td>\n",
              "      <td>0</td>\n",
              "      <td>24</td>\n",
              "      <td>25</td>\n",
              "      <td>27</td>\n",
              "      <td>0</td>\n",
              "      <td>27</td>\n",
              "      <td>10</td>\n",
              "      <td>26</td>\n",
              "      <td>11</td>\n",
              "      <td>28</td>\n",
              "      <td>11</td>\n",
              "      <td>28</td>\n",
              "      <td>11</td>\n",
              "      <td>28</td>\n",
              "      <td>11</td>\n",
              "      <td>26</td>\n",
              "      <td>11</td>\n",
              "      <td>1</td>\n",
              "      <td>0</td>\n",
              "      <td>0</td>\n",
              "    </tr>\n",
              "    <tr>\n",
              "      <th>4</th>\n",
              "      <td>2</td>\n",
              "      <td>0</td>\n",
              "      <td>1</td>\n",
              "      <td>0</td>\n",
              "      <td>0</td>\n",
              "      <td>10</td>\n",
              "      <td>0</td>\n",
              "      <td>52</td>\n",
              "      <td>6</td>\n",
              "      <td>0</td>\n",
              "      <td>38</td>\n",
              "      <td>1</td>\n",
              "      <td>0</td>\n",
              "      <td>200</td>\n",
              "      <td>2</td>\n",
              "      <td>0</td>\n",
              "      <td>84</td>\n",
              "      <td>1</td>\n",
              "      <td>0</td>\n",
              "      <td>14</td>\n",
              "      <td>0</td>\n",
              "      <td>0</td>\n",
              "      <td>0</td>\n",
              "      <td>0</td>\n",
              "      <td>0</td>\n",
              "      <td>0</td>\n",
              "      <td>0</td>\n",
              "      <td>0</td>\n",
              "      <td>0</td>\n",
              "      <td>0</td>\n",
              "      <td>0</td>\n",
              "      <td>0</td>\n",
              "      <td>208</td>\n",
              "      <td>2</td>\n",
              "      <td>0</td>\n",
              "      <td>1</td>\n",
              "      <td>0</td>\n",
              "      <td>0</td>\n",
              "      <td>0</td>\n",
              "      <td>0</td>\n",
              "      <td>...</td>\n",
              "      <td>0</td>\n",
              "      <td>0</td>\n",
              "      <td>0</td>\n",
              "      <td>0</td>\n",
              "      <td>0</td>\n",
              "      <td>0</td>\n",
              "      <td>0</td>\n",
              "      <td>1</td>\n",
              "      <td>62</td>\n",
              "      <td>44</td>\n",
              "      <td>201</td>\n",
              "      <td>86</td>\n",
              "      <td>15</td>\n",
              "      <td>0</td>\n",
              "      <td>0</td>\n",
              "      <td>0</td>\n",
              "      <td>0</td>\n",
              "      <td>0</td>\n",
              "      <td>9</td>\n",
              "      <td>16</td>\n",
              "      <td>21</td>\n",
              "      <td>0</td>\n",
              "      <td>25</td>\n",
              "      <td>11</td>\n",
              "      <td>3</td>\n",
              "      <td>27</td>\n",
              "      <td>11</td>\n",
              "      <td>26</td>\n",
              "      <td>11</td>\n",
              "      <td>28</td>\n",
              "      <td>11</td>\n",
              "      <td>28</td>\n",
              "      <td>11</td>\n",
              "      <td>28</td>\n",
              "      <td>11</td>\n",
              "      <td>26</td>\n",
              "      <td>11</td>\n",
              "      <td>1</td>\n",
              "      <td>0</td>\n",
              "      <td>0</td>\n",
              "    </tr>\n",
              "  </tbody>\n",
              "</table>\n",
              "<p>5 rows × 198 columns</p>\n",
              "</div>"
            ],
            "text/plain": [
              "   Base  SingleMineral  hotkey00  ...  race_Protoss  race_Terran  race_Zerg\n",
              "0    66              5         5  ...             1            0          0\n",
              "1    12              0         2  ...             1            0          0\n",
              "2    47              3         3  ...             1            0          0\n",
              "3    21              0         2  ...             1            0          0\n",
              "4     2              0         1  ...             1            0          0\n",
              "\n",
              "[5 rows x 198 columns]"
            ]
          },
          "metadata": {
            "tags": []
          },
          "execution_count": 35
        }
      ]
    },
    {
      "cell_type": "code",
      "metadata": {
        "id": "YMEMdDOMYSwt"
      },
      "source": [
        "X_train, X_test, y_train, y_test = train_test_split(features, players, test_size=0.3, random_state=42)"
      ],
      "execution_count": 36,
      "outputs": []
    },
    {
      "cell_type": "code",
      "metadata": {
        "id": "mHRvWVqPiR0U",
        "outputId": "ba9e94c3-0398-4807-f4e5-ea8090824d8c",
        "colab": {
          "base_uri": "https://localhost:8080/",
          "height": 119
        }
      },
      "source": [
        "# Setup the parameters and distributions to sample from: param_dist\n",
        "param_dist = {\"max_depth\": randint(1, 40),\n",
        "              \"max_features\": randint(1, 36),\n",
        "              \"min_samples_leaf\": randint(1, 20),\n",
        "              \"criterion\": [\"gini\", \"entropy\"]}\n",
        "\n",
        "tree = DecisionTreeClassifier()\n",
        "\n",
        "# Instantiate the RandomizedSearchCV object: tree_cv\n",
        "#tree = RandomizedSearchCV(tree, param_dist, cv=5)\n",
        "\n",
        "# Fit it to the data\n",
        "tree.fit(X_train, y_train)\n",
        "\n",
        "# Print the tuned parameters and score\n",
        "#print(\"Tuned Decision Tree Parameters: {}\".format(tree_cv.best_params_))\n",
        "#print(\"Best score is {}\".format(tree_cv.best_score_))"
      ],
      "execution_count": 49,
      "outputs": [
        {
          "output_type": "execute_result",
          "data": {
            "text/plain": [
              "DecisionTreeClassifier(ccp_alpha=0.0, class_weight=None, criterion='gini',\n",
              "                       max_depth=None, max_features=None, max_leaf_nodes=None,\n",
              "                       min_impurity_decrease=0.0, min_impurity_split=None,\n",
              "                       min_samples_leaf=1, min_samples_split=2,\n",
              "                       min_weight_fraction_leaf=0.0, presort='deprecated',\n",
              "                       random_state=None, splitter='best')"
            ]
          },
          "metadata": {
            "tags": []
          },
          "execution_count": 49
        }
      ]
    },
    {
      "cell_type": "code",
      "metadata": {
        "id": "xuySW5J1BpG8",
        "outputId": "72b190d3-02e9-41ce-80f5-82db4230373e",
        "colab": {
          "base_uri": "https://localhost:8080/",
          "height": 51
        }
      },
      "source": [
        "y_predict = tree.predict(X_test)\n",
        "print(accuracy_score(y_test, y_predict))\n",
        "print(f1_score(y_test, y_predict, average='weighted'))"
      ],
      "execution_count": 50,
      "outputs": [
        {
          "output_type": "stream",
          "text": [
            "0.7314410480349345\n",
            "0.7228034409601454\n"
          ],
          "name": "stdout"
        }
      ]
    },
    {
      "cell_type": "code",
      "metadata": {
        "id": "OTD0SZYwos5v",
        "outputId": "8a5d158d-bee0-4652-d51b-34d6f2cf2425",
        "colab": {
          "base_uri": "https://localhost:8080/",
          "height": 136
        }
      },
      "source": [
        "# Using XGBClassifier\n",
        "xgb = XGBClassifier()\n",
        "xgb.fit(X_train, y_train)\n",
        "print(xgb)"
      ],
      "execution_count": 51,
      "outputs": [
        {
          "output_type": "stream",
          "text": [
            "XGBClassifier(base_score=0.5, booster='gbtree', colsample_bylevel=1,\n",
            "              colsample_bynode=1, colsample_bytree=1, gamma=0,\n",
            "              learning_rate=0.1, max_delta_step=0, max_depth=3,\n",
            "              min_child_weight=1, missing=None, n_estimators=100, n_jobs=1,\n",
            "              nthread=None, objective='multi:softprob', random_state=0,\n",
            "              reg_alpha=0, reg_lambda=1, scale_pos_weight=1, seed=None,\n",
            "              silent=None, subsample=1, verbosity=1)\n"
          ],
          "name": "stdout"
        }
      ]
    },
    {
      "cell_type": "code",
      "metadata": {
        "id": "iXMOd2Sy1nx1",
        "outputId": "1e89f169-4978-4740-82db-69f045f93c27",
        "colab": {
          "base_uri": "https://localhost:8080/",
          "height": 51
        }
      },
      "source": [
        "predictions = xgb.predict(X_test)\n",
        "print(accuracy_score(y_test, predictions))\n",
        "print(f1_score(y_test, predictions, average='weighted'))"
      ],
      "execution_count": 52,
      "outputs": [
        {
          "output_type": "stream",
          "text": [
            "0.8548034934497817\n",
            "0.8424451355703723\n"
          ],
          "name": "stdout"
        }
      ]
    },
    {
      "cell_type": "markdown",
      "metadata": {
        "id": "7Hd0PPIDw9dy"
      },
      "source": [
        "## Predictions on test data"
      ]
    },
    {
      "cell_type": "code",
      "metadata": {
        "id": "MgXueMigp_RQ",
        "outputId": "3dfae7cc-7f5d-4f59-cf04-996743acf23b",
        "colab": {
          "base_uri": "https://localhost:8080/",
          "height": 204
        }
      },
      "source": [
        "# Showing the data\n",
        "test_data.head()"
      ],
      "execution_count": 39,
      "outputs": [
        {
          "output_type": "execute_result",
          "data": {
            "text/html": [
              "<div>\n",
              "<style scoped>\n",
              "    .dataframe tbody tr th:only-of-type {\n",
              "        vertical-align: middle;\n",
              "    }\n",
              "\n",
              "    .dataframe tbody tr th {\n",
              "        vertical-align: top;\n",
              "    }\n",
              "\n",
              "    .dataframe thead th {\n",
              "        text-align: right;\n",
              "    }\n",
              "</style>\n",
              "<table border=\"1\" class=\"dataframe\">\n",
              "  <thead>\n",
              "    <tr style=\"text-align: right;\">\n",
              "      <th></th>\n",
              "      <th>race</th>\n",
              "      <th>actions</th>\n",
              "    </tr>\n",
              "  </thead>\n",
              "  <tbody>\n",
              "    <tr>\n",
              "      <th>0</th>\n",
              "      <td>Zerg</td>\n",
              "      <td>s, s, s, hotkey10, s, hotkey60, s, hotkey00, s...</td>\n",
              "    </tr>\n",
              "    <tr>\n",
              "      <th>1</th>\n",
              "      <td>Terran</td>\n",
              "      <td>s, hotkey30, hotkey00, t5, s, hotkey32, s, hot...</td>\n",
              "    </tr>\n",
              "    <tr>\n",
              "      <th>2</th>\n",
              "      <td>Protoss</td>\n",
              "      <td>Base, s, s, Base, s, hotkey20, hotkey30, hotke...</td>\n",
              "    </tr>\n",
              "    <tr>\n",
              "      <th>3</th>\n",
              "      <td>Zerg</td>\n",
              "      <td>s, s, s, s, hotkey20, s, hotkey40, t5, t10, ho...</td>\n",
              "    </tr>\n",
              "    <tr>\n",
              "      <th>4</th>\n",
              "      <td>Protoss</td>\n",
              "      <td>Base, s, s, Base, s, hotkey50, hotkey30, t5, h...</td>\n",
              "    </tr>\n",
              "  </tbody>\n",
              "</table>\n",
              "</div>"
            ],
            "text/plain": [
              "      race                                            actions\n",
              "0     Zerg  s, s, s, hotkey10, s, hotkey60, s, hotkey00, s...\n",
              "1   Terran  s, hotkey30, hotkey00, t5, s, hotkey32, s, hot...\n",
              "2  Protoss  Base, s, s, Base, s, hotkey20, hotkey30, hotke...\n",
              "3     Zerg  s, s, s, s, hotkey20, s, hotkey40, t5, t10, ho...\n",
              "4  Protoss  Base, s, s, Base, s, hotkey50, hotkey30, t5, h..."
            ]
          },
          "metadata": {
            "tags": []
          },
          "execution_count": 39
        }
      ]
    },
    {
      "cell_type": "code",
      "metadata": {
        "id": "iWXOPXqqxUNI",
        "outputId": "90fdbd6c-f9cf-4d45-da89-b8dcf3952ae7",
        "colab": {
          "base_uri": "https://localhost:8080/",
          "height": 253
        }
      },
      "source": [
        "# Get the features\n",
        "test_df = get_features(test_data)\n",
        "test_df.head()"
      ],
      "execution_count": 40,
      "outputs": [
        {
          "output_type": "execute_result",
          "data": {
            "text/html": [
              "<div>\n",
              "<style scoped>\n",
              "    .dataframe tbody tr th:only-of-type {\n",
              "        vertical-align: middle;\n",
              "    }\n",
              "\n",
              "    .dataframe tbody tr th {\n",
              "        vertical-align: top;\n",
              "    }\n",
              "\n",
              "    .dataframe thead th {\n",
              "        text-align: right;\n",
              "    }\n",
              "</style>\n",
              "<table border=\"1\" class=\"dataframe\">\n",
              "  <thead>\n",
              "    <tr style=\"text-align: right;\">\n",
              "      <th></th>\n",
              "      <th>Base</th>\n",
              "      <th>SingleMineral</th>\n",
              "      <th>hotkey00</th>\n",
              "      <th>hotkey01</th>\n",
              "      <th>hotkey02</th>\n",
              "      <th>hotkey10</th>\n",
              "      <th>hotkey11</th>\n",
              "      <th>hotkey12</th>\n",
              "      <th>hotkey20</th>\n",
              "      <th>hotkey21</th>\n",
              "      <th>hotkey22</th>\n",
              "      <th>hotkey30</th>\n",
              "      <th>hotkey31</th>\n",
              "      <th>hotkey32</th>\n",
              "      <th>hotkey40</th>\n",
              "      <th>hotkey41</th>\n",
              "      <th>hotkey42</th>\n",
              "      <th>hotkey50</th>\n",
              "      <th>hotkey51</th>\n",
              "      <th>hotkey52</th>\n",
              "      <th>hotkey60</th>\n",
              "      <th>hotkey61</th>\n",
              "      <th>hotkey62</th>\n",
              "      <th>hotkey70</th>\n",
              "      <th>hotkey71</th>\n",
              "      <th>hotkey72</th>\n",
              "      <th>hotkey80</th>\n",
              "      <th>hotkey81</th>\n",
              "      <th>hotkey82</th>\n",
              "      <th>hotkey90</th>\n",
              "      <th>hotkey91</th>\n",
              "      <th>hotkey92</th>\n",
              "      <th>s</th>\n",
              "      <th>Base_30s</th>\n",
              "      <th>SingleMineral_30s</th>\n",
              "      <th>hotkey00_30s</th>\n",
              "      <th>hotkey01_30s</th>\n",
              "      <th>hotkey02_30s</th>\n",
              "      <th>hotkey10_30s</th>\n",
              "      <th>hotkey11_30s</th>\n",
              "      <th>...</th>\n",
              "      <th>hotkey80_120s</th>\n",
              "      <th>hotkey81_120s</th>\n",
              "      <th>hotkey82_120s</th>\n",
              "      <th>hotkey90_120s</th>\n",
              "      <th>hotkey91_120s</th>\n",
              "      <th>hotkey92_120s</th>\n",
              "      <th>s_120s</th>\n",
              "      <th>hotkey0</th>\n",
              "      <th>hotkey1</th>\n",
              "      <th>hotkey2</th>\n",
              "      <th>hotkey3</th>\n",
              "      <th>hotkey4</th>\n",
              "      <th>hotkey5</th>\n",
              "      <th>hotkey6</th>\n",
              "      <th>hotkey7</th>\n",
              "      <th>hotkey8</th>\n",
              "      <th>hotkey9</th>\n",
              "      <th>action_1</th>\n",
              "      <th>action_2</th>\n",
              "      <th>action_3</th>\n",
              "      <th>action_4</th>\n",
              "      <th>action_5</th>\n",
              "      <th>action_6</th>\n",
              "      <th>action_7</th>\n",
              "      <th>action_8</th>\n",
              "      <th>action_9</th>\n",
              "      <th>action_10</th>\n",
              "      <th>action_11</th>\n",
              "      <th>action_12</th>\n",
              "      <th>action_13</th>\n",
              "      <th>action_14</th>\n",
              "      <th>action_15</th>\n",
              "      <th>action_16</th>\n",
              "      <th>action_17</th>\n",
              "      <th>action_18</th>\n",
              "      <th>action_19</th>\n",
              "      <th>action_20</th>\n",
              "      <th>race_Protoss</th>\n",
              "      <th>race_Terran</th>\n",
              "      <th>race_Zerg</th>\n",
              "    </tr>\n",
              "  </thead>\n",
              "  <tbody>\n",
              "    <tr>\n",
              "      <th>0</th>\n",
              "      <td>19</td>\n",
              "      <td>3</td>\n",
              "      <td>14</td>\n",
              "      <td>0</td>\n",
              "      <td>847</td>\n",
              "      <td>7</td>\n",
              "      <td>31</td>\n",
              "      <td>352</td>\n",
              "      <td>10</td>\n",
              "      <td>0</td>\n",
              "      <td>67</td>\n",
              "      <td>3</td>\n",
              "      <td>0</td>\n",
              "      <td>2</td>\n",
              "      <td>0</td>\n",
              "      <td>0</td>\n",
              "      <td>0</td>\n",
              "      <td>0</td>\n",
              "      <td>0</td>\n",
              "      <td>0</td>\n",
              "      <td>3</td>\n",
              "      <td>1</td>\n",
              "      <td>981</td>\n",
              "      <td>4</td>\n",
              "      <td>0</td>\n",
              "      <td>43</td>\n",
              "      <td>0</td>\n",
              "      <td>0</td>\n",
              "      <td>0</td>\n",
              "      <td>6</td>\n",
              "      <td>0</td>\n",
              "      <td>29</td>\n",
              "      <td>848</td>\n",
              "      <td>0</td>\n",
              "      <td>0</td>\n",
              "      <td>2</td>\n",
              "      <td>0</td>\n",
              "      <td>47</td>\n",
              "      <td>1</td>\n",
              "      <td>0</td>\n",
              "      <td>...</td>\n",
              "      <td>0</td>\n",
              "      <td>0</td>\n",
              "      <td>0</td>\n",
              "      <td>0</td>\n",
              "      <td>0</td>\n",
              "      <td>0</td>\n",
              "      <td>0</td>\n",
              "      <td>861</td>\n",
              "      <td>390</td>\n",
              "      <td>77</td>\n",
              "      <td>5</td>\n",
              "      <td>0</td>\n",
              "      <td>0</td>\n",
              "      <td>985</td>\n",
              "      <td>47</td>\n",
              "      <td>0</td>\n",
              "      <td>35</td>\n",
              "      <td>2</td>\n",
              "      <td>8</td>\n",
              "      <td>12</td>\n",
              "      <td>3</td>\n",
              "      <td>19</td>\n",
              "      <td>14</td>\n",
              "      <td>22</td>\n",
              "      <td>2</td>\n",
              "      <td>23</td>\n",
              "      <td>23</td>\n",
              "      <td>4</td>\n",
              "      <td>25</td>\n",
              "      <td>5</td>\n",
              "      <td>18</td>\n",
              "      <td>5</td>\n",
              "      <td>25</td>\n",
              "      <td>5</td>\n",
              "      <td>17</td>\n",
              "      <td>4</td>\n",
              "      <td>14</td>\n",
              "      <td>0</td>\n",
              "      <td>0</td>\n",
              "      <td>1</td>\n",
              "    </tr>\n",
              "    <tr>\n",
              "      <th>1</th>\n",
              "      <td>0</td>\n",
              "      <td>0</td>\n",
              "      <td>2</td>\n",
              "      <td>0</td>\n",
              "      <td>33</td>\n",
              "      <td>14</td>\n",
              "      <td>0</td>\n",
              "      <td>336</td>\n",
              "      <td>31</td>\n",
              "      <td>0</td>\n",
              "      <td>150</td>\n",
              "      <td>1</td>\n",
              "      <td>0</td>\n",
              "      <td>467</td>\n",
              "      <td>3</td>\n",
              "      <td>0</td>\n",
              "      <td>402</td>\n",
              "      <td>1</td>\n",
              "      <td>0</td>\n",
              "      <td>157</td>\n",
              "      <td>0</td>\n",
              "      <td>0</td>\n",
              "      <td>0</td>\n",
              "      <td>0</td>\n",
              "      <td>0</td>\n",
              "      <td>0</td>\n",
              "      <td>0</td>\n",
              "      <td>0</td>\n",
              "      <td>0</td>\n",
              "      <td>1</td>\n",
              "      <td>0</td>\n",
              "      <td>47</td>\n",
              "      <td>572</td>\n",
              "      <td>0</td>\n",
              "      <td>0</td>\n",
              "      <td>1</td>\n",
              "      <td>0</td>\n",
              "      <td>0</td>\n",
              "      <td>0</td>\n",
              "      <td>0</td>\n",
              "      <td>...</td>\n",
              "      <td>0</td>\n",
              "      <td>0</td>\n",
              "      <td>0</td>\n",
              "      <td>0</td>\n",
              "      <td>0</td>\n",
              "      <td>0</td>\n",
              "      <td>0</td>\n",
              "      <td>35</td>\n",
              "      <td>350</td>\n",
              "      <td>181</td>\n",
              "      <td>468</td>\n",
              "      <td>405</td>\n",
              "      <td>158</td>\n",
              "      <td>0</td>\n",
              "      <td>0</td>\n",
              "      <td>0</td>\n",
              "      <td>48</td>\n",
              "      <td>2</td>\n",
              "      <td>5</td>\n",
              "      <td>1</td>\n",
              "      <td>16</td>\n",
              "      <td>8</td>\n",
              "      <td>20</td>\n",
              "      <td>11</td>\n",
              "      <td>22</td>\n",
              "      <td>11</td>\n",
              "      <td>25</td>\n",
              "      <td>10</td>\n",
              "      <td>25</td>\n",
              "      <td>11</td>\n",
              "      <td>26</td>\n",
              "      <td>11</td>\n",
              "      <td>25</td>\n",
              "      <td>10</td>\n",
              "      <td>23</td>\n",
              "      <td>10</td>\n",
              "      <td>19</td>\n",
              "      <td>0</td>\n",
              "      <td>1</td>\n",
              "      <td>0</td>\n",
              "    </tr>\n",
              "    <tr>\n",
              "      <th>2</th>\n",
              "      <td>20</td>\n",
              "      <td>0</td>\n",
              "      <td>1</td>\n",
              "      <td>0</td>\n",
              "      <td>0</td>\n",
              "      <td>10</td>\n",
              "      <td>0</td>\n",
              "      <td>479</td>\n",
              "      <td>53</td>\n",
              "      <td>0</td>\n",
              "      <td>628</td>\n",
              "      <td>60</td>\n",
              "      <td>0</td>\n",
              "      <td>251</td>\n",
              "      <td>2</td>\n",
              "      <td>0</td>\n",
              "      <td>217</td>\n",
              "      <td>0</td>\n",
              "      <td>0</td>\n",
              "      <td>0</td>\n",
              "      <td>1</td>\n",
              "      <td>0</td>\n",
              "      <td>1130</td>\n",
              "      <td>3</td>\n",
              "      <td>0</td>\n",
              "      <td>32</td>\n",
              "      <td>5</td>\n",
              "      <td>0</td>\n",
              "      <td>49</td>\n",
              "      <td>0</td>\n",
              "      <td>0</td>\n",
              "      <td>0</td>\n",
              "      <td>556</td>\n",
              "      <td>2</td>\n",
              "      <td>0</td>\n",
              "      <td>0</td>\n",
              "      <td>0</td>\n",
              "      <td>0</td>\n",
              "      <td>0</td>\n",
              "      <td>0</td>\n",
              "      <td>...</td>\n",
              "      <td>0</td>\n",
              "      <td>0</td>\n",
              "      <td>0</td>\n",
              "      <td>0</td>\n",
              "      <td>0</td>\n",
              "      <td>0</td>\n",
              "      <td>0</td>\n",
              "      <td>1</td>\n",
              "      <td>489</td>\n",
              "      <td>681</td>\n",
              "      <td>311</td>\n",
              "      <td>219</td>\n",
              "      <td>0</td>\n",
              "      <td>1131</td>\n",
              "      <td>35</td>\n",
              "      <td>54</td>\n",
              "      <td>0</td>\n",
              "      <td>0</td>\n",
              "      <td>8</td>\n",
              "      <td>12</td>\n",
              "      <td>0</td>\n",
              "      <td>19</td>\n",
              "      <td>6</td>\n",
              "      <td>10</td>\n",
              "      <td>14</td>\n",
              "      <td>12</td>\n",
              "      <td>21</td>\n",
              "      <td>18</td>\n",
              "      <td>25</td>\n",
              "      <td>18</td>\n",
              "      <td>26</td>\n",
              "      <td>16</td>\n",
              "      <td>25</td>\n",
              "      <td>15</td>\n",
              "      <td>23</td>\n",
              "      <td>7</td>\n",
              "      <td>14</td>\n",
              "      <td>1</td>\n",
              "      <td>0</td>\n",
              "      <td>0</td>\n",
              "    </tr>\n",
              "    <tr>\n",
              "      <th>3</th>\n",
              "      <td>17</td>\n",
              "      <td>2</td>\n",
              "      <td>0</td>\n",
              "      <td>0</td>\n",
              "      <td>0</td>\n",
              "      <td>68</td>\n",
              "      <td>89</td>\n",
              "      <td>525</td>\n",
              "      <td>13</td>\n",
              "      <td>6</td>\n",
              "      <td>129</td>\n",
              "      <td>4</td>\n",
              "      <td>2</td>\n",
              "      <td>30</td>\n",
              "      <td>3</td>\n",
              "      <td>1</td>\n",
              "      <td>528</td>\n",
              "      <td>2</td>\n",
              "      <td>0</td>\n",
              "      <td>3</td>\n",
              "      <td>1</td>\n",
              "      <td>0</td>\n",
              "      <td>3</td>\n",
              "      <td>0</td>\n",
              "      <td>0</td>\n",
              "      <td>0</td>\n",
              "      <td>0</td>\n",
              "      <td>0</td>\n",
              "      <td>0</td>\n",
              "      <td>0</td>\n",
              "      <td>0</td>\n",
              "      <td>0</td>\n",
              "      <td>1588</td>\n",
              "      <td>0</td>\n",
              "      <td>0</td>\n",
              "      <td>0</td>\n",
              "      <td>0</td>\n",
              "      <td>0</td>\n",
              "      <td>0</td>\n",
              "      <td>0</td>\n",
              "      <td>...</td>\n",
              "      <td>0</td>\n",
              "      <td>0</td>\n",
              "      <td>0</td>\n",
              "      <td>0</td>\n",
              "      <td>0</td>\n",
              "      <td>0</td>\n",
              "      <td>0</td>\n",
              "      <td>0</td>\n",
              "      <td>682</td>\n",
              "      <td>148</td>\n",
              "      <td>36</td>\n",
              "      <td>532</td>\n",
              "      <td>5</td>\n",
              "      <td>4</td>\n",
              "      <td>0</td>\n",
              "      <td>0</td>\n",
              "      <td>0</td>\n",
              "      <td>2</td>\n",
              "      <td>8</td>\n",
              "      <td>12</td>\n",
              "      <td>16</td>\n",
              "      <td>6</td>\n",
              "      <td>20</td>\n",
              "      <td>12</td>\n",
              "      <td>7</td>\n",
              "      <td>13</td>\n",
              "      <td>25</td>\n",
              "      <td>13</td>\n",
              "      <td>25</td>\n",
              "      <td>25</td>\n",
              "      <td>26</td>\n",
              "      <td>25</td>\n",
              "      <td>11</td>\n",
              "      <td>22</td>\n",
              "      <td>13</td>\n",
              "      <td>8</td>\n",
              "      <td>11</td>\n",
              "      <td>0</td>\n",
              "      <td>0</td>\n",
              "      <td>1</td>\n",
              "    </tr>\n",
              "    <tr>\n",
              "      <th>4</th>\n",
              "      <td>21</td>\n",
              "      <td>0</td>\n",
              "      <td>3</td>\n",
              "      <td>0</td>\n",
              "      <td>0</td>\n",
              "      <td>4</td>\n",
              "      <td>7</td>\n",
              "      <td>74</td>\n",
              "      <td>8</td>\n",
              "      <td>0</td>\n",
              "      <td>30</td>\n",
              "      <td>11</td>\n",
              "      <td>0</td>\n",
              "      <td>16</td>\n",
              "      <td>5</td>\n",
              "      <td>0</td>\n",
              "      <td>24</td>\n",
              "      <td>1</td>\n",
              "      <td>0</td>\n",
              "      <td>83</td>\n",
              "      <td>0</td>\n",
              "      <td>0</td>\n",
              "      <td>0</td>\n",
              "      <td>1</td>\n",
              "      <td>0</td>\n",
              "      <td>3</td>\n",
              "      <td>4</td>\n",
              "      <td>0</td>\n",
              "      <td>1</td>\n",
              "      <td>0</td>\n",
              "      <td>0</td>\n",
              "      <td>0</td>\n",
              "      <td>236</td>\n",
              "      <td>2</td>\n",
              "      <td>0</td>\n",
              "      <td>0</td>\n",
              "      <td>0</td>\n",
              "      <td>0</td>\n",
              "      <td>0</td>\n",
              "      <td>0</td>\n",
              "      <td>...</td>\n",
              "      <td>0</td>\n",
              "      <td>0</td>\n",
              "      <td>0</td>\n",
              "      <td>0</td>\n",
              "      <td>0</td>\n",
              "      <td>0</td>\n",
              "      <td>0</td>\n",
              "      <td>3</td>\n",
              "      <td>85</td>\n",
              "      <td>38</td>\n",
              "      <td>27</td>\n",
              "      <td>29</td>\n",
              "      <td>84</td>\n",
              "      <td>0</td>\n",
              "      <td>4</td>\n",
              "      <td>5</td>\n",
              "      <td>0</td>\n",
              "      <td>0</td>\n",
              "      <td>8</td>\n",
              "      <td>12</td>\n",
              "      <td>0</td>\n",
              "      <td>19</td>\n",
              "      <td>12</td>\n",
              "      <td>10</td>\n",
              "      <td>10</td>\n",
              "      <td>23</td>\n",
              "      <td>15</td>\n",
              "      <td>25</td>\n",
              "      <td>15</td>\n",
              "      <td>25</td>\n",
              "      <td>16</td>\n",
              "      <td>25</td>\n",
              "      <td>14</td>\n",
              "      <td>22</td>\n",
              "      <td>15</td>\n",
              "      <td>19</td>\n",
              "      <td>12</td>\n",
              "      <td>1</td>\n",
              "      <td>0</td>\n",
              "      <td>0</td>\n",
              "    </tr>\n",
              "  </tbody>\n",
              "</table>\n",
              "<p>5 rows × 198 columns</p>\n",
              "</div>"
            ],
            "text/plain": [
              "   Base  SingleMineral  hotkey00  ...  race_Protoss  race_Terran  race_Zerg\n",
              "0    19              3        14  ...             0            0          1\n",
              "1     0              0         2  ...             0            1          0\n",
              "2    20              0         1  ...             1            0          0\n",
              "3    17              2         0  ...             0            0          1\n",
              "4    21              0         3  ...             1            0          0\n",
              "\n",
              "[5 rows x 198 columns]"
            ]
          },
          "metadata": {
            "tags": []
          },
          "execution_count": 40
        }
      ]
    },
    {
      "cell_type": "code",
      "metadata": {
        "id": "VOqm45kByNLD"
      },
      "source": [
        "# Realize the predictions\n",
        "tree_preds = tree.predict(test_df)\n",
        "xgb_preds = xgb.predict(test_df)"
      ],
      "execution_count": 53,
      "outputs": []
    },
    {
      "cell_type": "code",
      "metadata": {
        "id": "Zej7D6xt0J9H",
        "outputId": "3816db74-3f88-4a8b-8936-a7e1ba3f3327",
        "colab": {
          "base_uri": "https://localhost:8080/",
          "height": 204
        }
      },
      "source": [
        "# Submission file\n",
        "my_submission = pd.DataFrame({'RowId': test_df.index + 1, 'prediction': xgb_preds})\n",
        "my_submission.head()"
      ],
      "execution_count": 59,
      "outputs": [
        {
          "output_type": "execute_result",
          "data": {
            "text/html": [
              "<div>\n",
              "<style scoped>\n",
              "    .dataframe tbody tr th:only-of-type {\n",
              "        vertical-align: middle;\n",
              "    }\n",
              "\n",
              "    .dataframe tbody tr th {\n",
              "        vertical-align: top;\n",
              "    }\n",
              "\n",
              "    .dataframe thead th {\n",
              "        text-align: right;\n",
              "    }\n",
              "</style>\n",
              "<table border=\"1\" class=\"dataframe\">\n",
              "  <thead>\n",
              "    <tr style=\"text-align: right;\">\n",
              "      <th></th>\n",
              "      <th>RowId</th>\n",
              "      <th>prediction</th>\n",
              "    </tr>\n",
              "  </thead>\n",
              "  <tbody>\n",
              "    <tr>\n",
              "      <th>0</th>\n",
              "      <td>1</td>\n",
              "      <td>http://eu.battle.net/sc2/en/profile/3538115/1/...</td>\n",
              "    </tr>\n",
              "    <tr>\n",
              "      <th>1</th>\n",
              "      <td>2</td>\n",
              "      <td>http://eu.battle.net/sc2/en/profile/2896854/1/...</td>\n",
              "    </tr>\n",
              "    <tr>\n",
              "      <th>2</th>\n",
              "      <td>3</td>\n",
              "      <td>http://eu.battle.net/sc2/en/profile/3973341/1/...</td>\n",
              "    </tr>\n",
              "    <tr>\n",
              "      <th>3</th>\n",
              "      <td>4</td>\n",
              "      <td>http://eu.battle.net/sc2/en/profile/250458/1/V...</td>\n",
              "    </tr>\n",
              "    <tr>\n",
              "      <th>4</th>\n",
              "      <td>5</td>\n",
              "      <td>http://us.battle.net/sc2/en/profile/4352638/1/...</td>\n",
              "    </tr>\n",
              "  </tbody>\n",
              "</table>\n",
              "</div>"
            ],
            "text/plain": [
              "   RowId                                         prediction\n",
              "0      1  http://eu.battle.net/sc2/en/profile/3538115/1/...\n",
              "1      2  http://eu.battle.net/sc2/en/profile/2896854/1/...\n",
              "2      3  http://eu.battle.net/sc2/en/profile/3973341/1/...\n",
              "3      4  http://eu.battle.net/sc2/en/profile/250458/1/V...\n",
              "4      5  http://us.battle.net/sc2/en/profile/4352638/1/..."
            ]
          },
          "metadata": {
            "tags": []
          },
          "execution_count": 59
        }
      ]
    },
    {
      "cell_type": "code",
      "metadata": {
        "id": "ziHRxcAf0xjY"
      },
      "source": [
        "#Creating file\n",
        "my_submission.to_csv('submission.csv', index=False)"
      ],
      "execution_count": 60,
      "outputs": []
    },
    {
      "cell_type": "code",
      "metadata": {
        "id": "61ccDTOu1N_P",
        "outputId": "2812840f-aa14-41de-c629-5ee97d91c25c",
        "colab": {
          "base_uri": "https://localhost:8080/",
          "height": 34
        }
      },
      "source": [
        "my_submission.shape"
      ],
      "execution_count": 58,
      "outputs": [
        {
          "output_type": "execute_result",
          "data": {
            "text/plain": [
              "(340, 2)"
            ]
          },
          "metadata": {
            "tags": []
          },
          "execution_count": 58
        }
      ]
    },
    {
      "cell_type": "code",
      "metadata": {
        "id": "ZO9D6JU61vhT"
      },
      "source": [
        ""
      ],
      "execution_count": null,
      "outputs": []
    }
  ]
}